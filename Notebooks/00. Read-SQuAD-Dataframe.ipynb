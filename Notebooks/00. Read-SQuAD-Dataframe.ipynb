{
 "cells": [
  {
   "cell_type": "code",
   "execution_count": 3,
   "metadata": {},
   "outputs": [],
   "source": [
    "import numpy as np # linear algebra\n",
    "import pandas as pd # data processing, CSV file I/O (e.g. pd.read_csv)\n",
    "import json # to read json\n",
    "import warnings # to ignore warnings\n",
    "warnings.filterwarnings('ignore')\n",
    "# Input data files are available in the \"../input/\" directory.\n",
    "# For example, running this (by clicking run or pressing Shift+Enter) will list the files in the input directory"
   ]
  },
  {
   "cell_type": "code",
   "execution_count": 4,
   "metadata": {},
   "outputs": [],
   "source": [
    "def squad_json_to_dataframe_train(input_file_path, record_path = ['data','paragraphs','qas','answers'],\n",
    "                           verbose = 1):\n",
    "    \"\"\"\n",
    "    input_file_path: path to the squad json file.\n",
    "    record_path: path to deepest level in json file default value is\n",
    "    ['data','paragraphs','qas','answers']\n",
    "    verbose: 0 to suppress it default is 1\n",
    "    \"\"\"\n",
    "    if verbose:\n",
    "        print(\"Reading the json file\")    \n",
    "    file = json.loads(open(input_file_path).read())\n",
    "    if verbose:\n",
    "        print(\"processing...\")\n",
    "    # parsing different level's in the json file\n",
    "    js = pd.io.json.json_normalize(file , record_path )\n",
    "    m = pd.io.json.json_normalize(file, record_path[:-1] )\n",
    "    r = pd.io.json.json_normalize(file,record_path[:-2])\n",
    "    \n",
    "    #combining it into single dataframe\n",
    "    idx = np.repeat(r['context'].values, r.qas.str.len())\n",
    "    ndx  = np.repeat(m['id'].values,m['answers'].str.len())\n",
    "    m['context'] = idx\n",
    "    js['q_idx'] = ndx\n",
    "    main = pd.concat([ m[['id','question','context']].set_index('id'),js.set_index('q_idx')],1,sort=False).reset_index()\n",
    "    main['c_id'] = main['context'].factorize()[0]\n",
    "    if verbose:\n",
    "        print(\"shape of the dataframe is {}\".format(main.shape))\n",
    "        print(\"Done\")\n",
    "    return main"
   ]
  },
  {
   "cell_type": "code",
   "execution_count": 5,
   "metadata": {},
   "outputs": [],
   "source": [
    "def squad_json_to_dataframe_dev(input_file_path, record_path = ['data','paragraphs','qas','answers'],\n",
    "                           verbose = 1):\n",
    "    \"\"\"\n",
    "    input_file_path: path to the squad json file.\n",
    "    record_path: path to deepest level in json file default value is\n",
    "    ['data','paragraphs','qas','answers']\n",
    "    verbose: 0 to suppress it default is 1\n",
    "    \"\"\"\n",
    "    if verbose:\n",
    "        print(\"Reading the json file\")    \n",
    "    file = json.loads(open(input_file_path).read())\n",
    "    if verbose:\n",
    "        print(\"processing...\")\n",
    "    # parsing different level's in the json file\n",
    "    js = pd.io.json.json_normalize(file , record_path )\n",
    "    m = pd.io.json.json_normalize(file, record_path[:-1] )\n",
    "    r = pd.io.json.json_normalize(file,record_path[:-2])\n",
    "    \n",
    "    #combining it into single dataframe\n",
    "    idx = np.repeat(r['context'].values, r.qas.str.len())\n",
    "#     ndx  = np.repeat(m['id'].values,m['answers'].str.len())\n",
    "    m['context'] = idx\n",
    "#     js['q_idx'] = ndx\n",
    "    main = m[['id','question','context','answers']].set_index('id').reset_index()\n",
    "    main['c_id'] = main['context'].factorize()[0]\n",
    "    if verbose:\n",
    "        print(\"shape of the dataframe is {}\".format(main.shape))\n",
    "        print(\"Done\")\n",
    "    return main"
   ]
  },
  {
   "cell_type": "code",
   "execution_count": 7,
   "metadata": {},
   "outputs": [],
   "source": [
    "# training data\n",
    "input_file_path = '../SQuAD/translate-train/squad.translate.train.en-te.json'\n",
    "record_path = ['data','paragraphs','qas','answers']\n",
    "train = squad_json_to_dataframe_train(input_file_path=input_file_path,record_path=record_path,verbose=0)"
   ]
  },
  {
   "cell_type": "code",
   "execution_count": 8,
   "metadata": {},
   "outputs": [
    {
     "data": {
      "text/html": [
       "<div>\n",
       "<style scoped>\n",
       "    .dataframe tbody tr th:only-of-type {\n",
       "        vertical-align: middle;\n",
       "    }\n",
       "\n",
       "    .dataframe tbody tr th {\n",
       "        vertical-align: top;\n",
       "    }\n",
       "\n",
       "    .dataframe thead th {\n",
       "        text-align: right;\n",
       "    }\n",
       "</style>\n",
       "<table border=\"1\" class=\"dataframe\">\n",
       "  <thead>\n",
       "    <tr style=\"text-align: right;\">\n",
       "      <th></th>\n",
       "      <th>index</th>\n",
       "      <th>question</th>\n",
       "      <th>context</th>\n",
       "      <th>answer_start</th>\n",
       "      <th>text</th>\n",
       "      <th>c_id</th>\n",
       "    </tr>\n",
       "  </thead>\n",
       "  <tbody>\n",
       "    <tr>\n",
       "      <th>0</th>\n",
       "      <td>57269b79dd62a815002e8aea</td>\n",
       "      <td>ఈ సమయంలో యూరప్‌లో ఏ చర్చి విస్తృతంగా వ్యాపించి...</td>\n",
       "      <td>కాథలిక్ చర్చి ఈ సమయంలో యూరప్ అంతటా వ్యాపించింద...</td>\n",
       "      <td>0</td>\n",
       "      <td>కాథలిక్ చర్చి</td>\n",
       "      <td>0</td>\n",
       "    </tr>\n",
       "    <tr>\n",
       "      <th>1</th>\n",
       "      <td>56e075f87aa994140058e509</td>\n",
       "      <td>బ్రీతి వాయిస్ అంటే ఏమిటి?</td>\n",
       "      <td>స్వర ఆకాంక్ష హల్లులు అని పిలవబడేవి బ్రీతి వాయి...</td>\n",
       "      <td>85</td>\n",
       "      <td>ఒక రకమైన ఫోనేషన్ లేదా స్వర మడతల వైబ్రేషన్</td>\n",
       "      <td>1</td>\n",
       "    </tr>\n",
       "    <tr>\n",
       "      <th>2</th>\n",
       "      <td>5726866b5951b619008f758f</td>\n",
       "      <td>\"నా\" కోసం డచ్ పదం ఏమిటి?</td>\n",
       "      <td>డచ్ వ్రాసిన వ్యాకరణం గత 100 సంవత్సరాలుగా సరళీక...</td>\n",
       "      <td>158</td>\n",
       "      <td>మిజ్న్</td>\n",
       "      <td>2</td>\n",
       "    </tr>\n",
       "    <tr>\n",
       "      <th>3</th>\n",
       "      <td>56d104d117492d1400aab73f</td>\n",
       "      <td>ప్రతి సంవత్సరం ఎంత మంది హెచ్‌హెచ్‌సి అత్యవసర గ...</td>\n",
       "      <td>ప్రతి సంవత్సరం HHC యొక్క సౌకర్యాలు సుమారు 225,...</td>\n",
       "      <td>61</td>\n",
       "      <td>ఒక మిలియన్</td>\n",
       "      <td>3</td>\n",
       "    </tr>\n",
       "    <tr>\n",
       "      <th>4</th>\n",
       "      <td>5726627bf1498d1400e8ddd4</td>\n",
       "      <td>ఏ అన్వేషకుడు కాబోట్ మాదిరిగానే తప్పు చేసాడు?</td>\n",
       "      <td>ఇంగ్లాండ్ మరియు స్కాట్లాండ్ ప్రత్యేక రాజ్యాలు ...</td>\n",
       "      <td>460</td>\n",
       "      <td>క్రిస్టోఫర్ కొలంబస్</td>\n",
       "      <td>4</td>\n",
       "    </tr>\n",
       "  </tbody>\n",
       "</table>\n",
       "</div>"
      ],
      "text/plain": [
       "                      index  \\\n",
       "0  57269b79dd62a815002e8aea   \n",
       "1  56e075f87aa994140058e509   \n",
       "2  5726866b5951b619008f758f   \n",
       "3  56d104d117492d1400aab73f   \n",
       "4  5726627bf1498d1400e8ddd4   \n",
       "\n",
       "                                            question  \\\n",
       "0  ఈ సమయంలో యూరప్‌లో ఏ చర్చి విస్తృతంగా వ్యాపించి...   \n",
       "1                          బ్రీతి వాయిస్ అంటే ఏమిటి?   \n",
       "2                           \"నా\" కోసం డచ్ పదం ఏమిటి?   \n",
       "3  ప్రతి సంవత్సరం ఎంత మంది హెచ్‌హెచ్‌సి అత్యవసర గ...   \n",
       "4       ఏ అన్వేషకుడు కాబోట్ మాదిరిగానే తప్పు చేసాడు?   \n",
       "\n",
       "                                             context  answer_start  \\\n",
       "0  కాథలిక్ చర్చి ఈ సమయంలో యూరప్ అంతటా వ్యాపించింద...             0   \n",
       "1  స్వర ఆకాంక్ష హల్లులు అని పిలవబడేవి బ్రీతి వాయి...            85   \n",
       "2  డచ్ వ్రాసిన వ్యాకరణం గత 100 సంవత్సరాలుగా సరళీక...           158   \n",
       "3  ప్రతి సంవత్సరం HHC యొక్క సౌకర్యాలు సుమారు 225,...            61   \n",
       "4  ఇంగ్లాండ్ మరియు స్కాట్లాండ్ ప్రత్యేక రాజ్యాలు ...           460   \n",
       "\n",
       "                                        text  c_id  \n",
       "0                              కాథలిక్ చర్చి     0  \n",
       "1  ఒక రకమైన ఫోనేషన్ లేదా స్వర మడతల వైబ్రేషన్     1  \n",
       "2                                     మిజ్న్     2  \n",
       "3                                 ఒక మిలియన్     3  \n",
       "4                        క్రిస్టోఫర్ కొలంబస్     4  "
      ]
     },
     "execution_count": 8,
     "metadata": {},
     "output_type": "execute_result"
    }
   ],
   "source": [
    "train.head()"
   ]
  },
  {
   "cell_type": "code",
   "execution_count": 9,
   "metadata": {},
   "outputs": [
    {
     "name": "stdout",
     "output_type": "stream",
     "text": [
      "<class 'pandas.core.frame.DataFrame'>\n",
      "RangeIndex: 87091 entries, 0 to 87090\n",
      "Data columns (total 6 columns):\n",
      " #   Column        Non-Null Count  Dtype \n",
      "---  ------        --------------  ----- \n",
      " 0   index         87091 non-null  object\n",
      " 1   question      87091 non-null  object\n",
      " 2   context       87091 non-null  object\n",
      " 3   answer_start  87091 non-null  int64 \n",
      " 4   text          87091 non-null  object\n",
      " 5   c_id          87091 non-null  int64 \n",
      "dtypes: int64(2), object(4)\n",
      "memory usage: 4.0+ MB\n"
     ]
    }
   ],
   "source": [
    "train.info()"
   ]
  },
  {
   "cell_type": "code",
   "execution_count": 19,
   "metadata": {},
   "outputs": [
    {
     "name": "stdout",
     "output_type": "stream",
     "text": [
      "./SQuAD/translate-train/squad.translate.train.en-ar.json (86787, 6)\n",
      "./SQuAD/translate-train/squad.translate.train.en-bn.json (85181, 6)\n",
      "./SQuAD/translate-train/squad.translate.train.en-de.json (82603, 6)\n",
      "./SQuAD/translate-train/squad.translate.train.en-el.json (79946, 6)\n",
      "./SQuAD/translate-train/squad.translate.train.en-es.json (87488, 6)\n",
      "./SQuAD/translate-train/squad.translate.train.en-fi.json (86914, 6)\n",
      "./SQuAD/translate-train/squad.translate.train.en-hi.json (85804, 6)\n",
      "./SQuAD/translate-train/squad.translate.train.en-id.json (87167, 6)\n",
      "./SQuAD/translate-train/squad.translate.train.en-ko.json (85757, 6)\n",
      "./SQuAD/translate-train/squad.translate.train.en-ru.json (84869, 6)\n",
      "./SQuAD/translate-train/squad.translate.train.en-sw.json (86311, 6)\n",
      "./SQuAD/translate-train/squad.translate.train.en-te.json (87091, 6)\n",
      "./SQuAD/translate-train/squad.translate.train.en-th.json (85846, 6)\n",
      "./SQuAD/translate-train/squad.translate.train.en-tr.json (86511, 6)\n",
      "./SQuAD/translate-train/squad.translate.train.en-vi.json (87187, 6)\n",
      "./SQuAD/translate-train/squad.translate.train.en-zh.json (85700, 6)\n"
     ]
    }
   ],
   "source": [
    "# loop over all files in the directory \"SQuAD/translate-train/ using glob \n",
    "# to get all the files in the directory\n",
    "from glob import glob\n",
    "\n",
    "for f in glob(\"./SQuAD/translate-train/*.json\"):\n",
    "    # load the file in dataframe using the function squad_json_to_dataframe_train\n",
    "    train_data = squad_json_to_dataframe_train(input_file_path=f,record_path=record_path,verbose=0)\n",
    "    # print name of file and shape of the dataframe\n",
    "    print(f,train_data.shape)"
   ]
  },
  {
   "cell_type": "code",
   "execution_count": null,
   "metadata": {},
   "outputs": [],
   "source": []
  }
 ],
 "metadata": {
  "interpreter": {
   "hash": "988aea983bc49b4de6555a9151e99301026502c3eb4adf0dc68b340a087613cc"
  },
  "kernelspec": {
   "display_name": "Python 3.8.12 ('all-purpose-gpu')",
   "language": "python",
   "name": "python3"
  },
  "language_info": {
   "codemirror_mode": {
    "name": "ipython",
    "version": 3
   },
   "file_extension": ".py",
   "mimetype": "text/x-python",
   "name": "python",
   "nbconvert_exporter": "python",
   "pygments_lexer": "ipython3",
   "version": "3.8.12"
  },
  "orig_nbformat": 4
 },
 "nbformat": 4,
 "nbformat_minor": 2
}
