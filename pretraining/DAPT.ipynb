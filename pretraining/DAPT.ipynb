{
 "cells": [
  {
   "cell_type": "markdown",
   "metadata": {},
   "source": [
    "# Domain adaptive Pretraining\n",
    "#### Language: `Arabic`\n",
    "\n",
    "Continual pretraining on the unlablled translated corpus to improve the performance of the model."
   ]
  },
  {
   "cell_type": "code",
   "execution_count": 11,
   "metadata": {},
   "outputs": [],
   "source": [
    "import sys\n",
    "sys.path.append('../')\n",
    "import numpy as np # linear algebra\n",
    "import pandas as pd # data processing, CSV file I/O (e.g. pd.read_csv)\n",
    "import json # to read json\n",
    "import warnings # to ignore warnings\n",
    "from utils import squad_json_to_dataframe_train\n",
    "warnings.filterwarnings('ignore')"
   ]
  },
  {
   "cell_type": "code",
   "execution_count": 12,
   "metadata": {},
   "outputs": [],
   "source": [
    "# training data\n",
    "language = 'ar'\n",
    "input_file_path = f'../SQuAD/translate-train/squad.translate.train.en-{language}.json'\n",
    "record_path = ['data','paragraphs','qas','answers']\n",
    "train = squad_json_to_dataframe_train(input_file_path=input_file_path,record_path=record_path,verbose=0)"
   ]
  },
  {
   "cell_type": "code",
   "execution_count": 13,
   "metadata": {},
   "outputs": [
    {
     "data": {
      "text/html": [
       "<div>\n",
       "<style scoped>\n",
       "    .dataframe tbody tr th:only-of-type {\n",
       "        vertical-align: middle;\n",
       "    }\n",
       "\n",
       "    .dataframe tbody tr th {\n",
       "        vertical-align: top;\n",
       "    }\n",
       "\n",
       "    .dataframe thead th {\n",
       "        text-align: right;\n",
       "    }\n",
       "</style>\n",
       "<table border=\"1\" class=\"dataframe\">\n",
       "  <thead>\n",
       "    <tr style=\"text-align: right;\">\n",
       "      <th></th>\n",
       "      <th>index</th>\n",
       "      <th>question</th>\n",
       "      <th>context</th>\n",
       "      <th>answer_start</th>\n",
       "      <th>text</th>\n",
       "      <th>c_id</th>\n",
       "    </tr>\n",
       "  </thead>\n",
       "  <tbody>\n",
       "    <tr>\n",
       "      <th>0</th>\n",
       "      <td>5706071252bb8914006897cd</td>\n",
       "      <td>أين تزود المهاجرين بالوقود؟</td>\n",
       "      <td>بالنسبة لبعض أنواع الخواضون ، يعتمد نجاح الهجر...</td>\n",
       "      <td>86</td>\n",
       "      <td>نقاط التوقف على طول طريق الترحيل</td>\n",
       "      <td>0</td>\n",
       "    </tr>\n",
       "    <tr>\n",
       "      <th>1</th>\n",
       "      <td>56f82171a6d7ea1400e173e9</td>\n",
       "      <td>من المشهور الذي عبر جبال الألب مع قطيع من الفيلة؟</td>\n",
       "      <td>اكتشف رجل محنط ، يبلغ عمره 5000 عام ، على نهر ...</td>\n",
       "      <td>165</td>\n",
       "      <td>هانيبال</td>\n",
       "      <td>1</td>\n",
       "    </tr>\n",
       "    <tr>\n",
       "      <th>2</th>\n",
       "      <td>5726c1e7708984140094d0a2</td>\n",
       "      <td>متى غادر الرومان أوترخت</td>\n",
       "      <td>من منتصف القرن الثالث غزت القبائل الجرمانية با...</td>\n",
       "      <td>71</td>\n",
       "      <td>حوالي 275 لم يعد بإمكان الرومان الحفاظ على الح...</td>\n",
       "      <td>2</td>\n",
       "    </tr>\n",
       "    <tr>\n",
       "      <th>3</th>\n",
       "      <td>570e6b020b85d914000d7eb9</td>\n",
       "      <td>ما هي النظرية المسماة التعامل مع نقل السنسكريت...</td>\n",
       "      <td>من أجل شرح الميزات الشائعة التي تتقاسمها اللغة...</td>\n",
       "      <td>118</td>\n",
       "      <td>نظرية هجرة الهند الآرية</td>\n",
       "      <td>3</td>\n",
       "    </tr>\n",
       "    <tr>\n",
       "      <th>4</th>\n",
       "      <td>5733cf6a4776f419006612a4</td>\n",
       "      <td>ماذا تمتلك المعاهدة التي يفتقر إليها الآخرون؟</td>\n",
       "      <td>في عام 1998 ، صرح كورت جوناسون وكارين بيورنسون...</td>\n",
       "      <td>262</td>\n",
       "      <td>مصداقية قانونية دولية</td>\n",
       "      <td>4</td>\n",
       "    </tr>\n",
       "  </tbody>\n",
       "</table>\n",
       "</div>"
      ],
      "text/plain": [
       "                      index  \\\n",
       "0  5706071252bb8914006897cd   \n",
       "1  56f82171a6d7ea1400e173e9   \n",
       "2  5726c1e7708984140094d0a2   \n",
       "3  570e6b020b85d914000d7eb9   \n",
       "4  5733cf6a4776f419006612a4   \n",
       "\n",
       "                                            question  \\\n",
       "0                        أين تزود المهاجرين بالوقود؟   \n",
       "1  من المشهور الذي عبر جبال الألب مع قطيع من الفيلة؟   \n",
       "2                            متى غادر الرومان أوترخت   \n",
       "3  ما هي النظرية المسماة التعامل مع نقل السنسكريت...   \n",
       "4      ماذا تمتلك المعاهدة التي يفتقر إليها الآخرون؟   \n",
       "\n",
       "                                             context  answer_start  \\\n",
       "0  بالنسبة لبعض أنواع الخواضون ، يعتمد نجاح الهجر...            86   \n",
       "1  اكتشف رجل محنط ، يبلغ عمره 5000 عام ، على نهر ...           165   \n",
       "2  من منتصف القرن الثالث غزت القبائل الجرمانية با...            71   \n",
       "3  من أجل شرح الميزات الشائعة التي تتقاسمها اللغة...           118   \n",
       "4  في عام 1998 ، صرح كورت جوناسون وكارين بيورنسون...           262   \n",
       "\n",
       "                                                text  c_id  \n",
       "0                   نقاط التوقف على طول طريق الترحيل     0  \n",
       "1                                            هانيبال     1  \n",
       "2  حوالي 275 لم يعد بإمكان الرومان الحفاظ على الح...     2  \n",
       "3                            نظرية هجرة الهند الآرية     3  \n",
       "4                              مصداقية قانونية دولية     4  "
      ]
     },
     "execution_count": 13,
     "metadata": {},
     "output_type": "execute_result"
    }
   ],
   "source": [
    "train.head()"
   ]
  },
  {
   "cell_type": "code",
   "execution_count": 14,
   "metadata": {},
   "outputs": [
    {
     "data": {
      "text/html": [
       "<div>\n",
       "<style scoped>\n",
       "    .dataframe tbody tr th:only-of-type {\n",
       "        vertical-align: middle;\n",
       "    }\n",
       "\n",
       "    .dataframe tbody tr th {\n",
       "        vertical-align: top;\n",
       "    }\n",
       "\n",
       "    .dataframe thead th {\n",
       "        text-align: right;\n",
       "    }\n",
       "</style>\n",
       "<table border=\"1\" class=\"dataframe\">\n",
       "  <thead>\n",
       "    <tr style=\"text-align: right;\">\n",
       "      <th></th>\n",
       "      <th>question</th>\n",
       "      <th>context</th>\n",
       "    </tr>\n",
       "  </thead>\n",
       "  <tbody>\n",
       "    <tr>\n",
       "      <th>0</th>\n",
       "      <td>أين تزود المهاجرين بالوقود؟</td>\n",
       "      <td>بالنسبة لبعض أنواع الخواضون ، يعتمد نجاح الهجر...</td>\n",
       "    </tr>\n",
       "    <tr>\n",
       "      <th>1</th>\n",
       "      <td>من المشهور الذي عبر جبال الألب مع قطيع من الفيلة؟</td>\n",
       "      <td>اكتشف رجل محنط ، يبلغ عمره 5000 عام ، على نهر ...</td>\n",
       "    </tr>\n",
       "    <tr>\n",
       "      <th>2</th>\n",
       "      <td>متى غادر الرومان أوترخت</td>\n",
       "      <td>من منتصف القرن الثالث غزت القبائل الجرمانية با...</td>\n",
       "    </tr>\n",
       "    <tr>\n",
       "      <th>3</th>\n",
       "      <td>ما هي النظرية المسماة التعامل مع نقل السنسكريت...</td>\n",
       "      <td>من أجل شرح الميزات الشائعة التي تتقاسمها اللغة...</td>\n",
       "    </tr>\n",
       "    <tr>\n",
       "      <th>4</th>\n",
       "      <td>ماذا تمتلك المعاهدة التي يفتقر إليها الآخرون؟</td>\n",
       "      <td>في عام 1998 ، صرح كورت جوناسون وكارين بيورنسون...</td>\n",
       "    </tr>\n",
       "  </tbody>\n",
       "</table>\n",
       "</div>"
      ],
      "text/plain": [
       "                                            question  \\\n",
       "0                        أين تزود المهاجرين بالوقود؟   \n",
       "1  من المشهور الذي عبر جبال الألب مع قطيع من الفيلة؟   \n",
       "2                            متى غادر الرومان أوترخت   \n",
       "3  ما هي النظرية المسماة التعامل مع نقل السنسكريت...   \n",
       "4      ماذا تمتلك المعاهدة التي يفتقر إليها الآخرون؟   \n",
       "\n",
       "                                             context  \n",
       "0  بالنسبة لبعض أنواع الخواضون ، يعتمد نجاح الهجر...  \n",
       "1  اكتشف رجل محنط ، يبلغ عمره 5000 عام ، على نهر ...  \n",
       "2  من منتصف القرن الثالث غزت القبائل الجرمانية با...  \n",
       "3  من أجل شرح الميزات الشائعة التي تتقاسمها اللغة...  \n",
       "4  في عام 1998 ، صرح كورت جوناسون وكارين بيورنسون...  "
      ]
     },
     "execution_count": 14,
     "metadata": {},
     "output_type": "execute_result"
    }
   ],
   "source": [
    "train.drop([\"index\",\"answer_start\",\"text\",\"c_id\"],axis = 1,inplace=True)\n",
    "train.head()"
   ]
  },
  {
   "cell_type": "code",
   "execution_count": 16,
   "metadata": {},
   "outputs": [],
   "source": [
    "pretraining_data_path = f\"./squad.pretraining.{language}.csv\"\n",
    "train.to_csv(pretraining_data_path,index=False)"
   ]
  },
  {
   "cell_type": "code",
   "execution_count": 17,
   "metadata": {},
   "outputs": [],
   "source": [
    "from transformers import AutoTokenizer, LineByLineTextDataset\n",
    "\n",
    "# model_name = \"microsoft/Multilingual-MiniLM-L12-H384\"\n",
    "tokenizer = AutoTokenizer.from_pretrained('xlm-roberta-base')\n",
    "dataset = LineByLineTextDataset(tokenizer=tokenizer, file_path=input_file_path, block_size=128)"
   ]
  },
  {
   "cell_type": "code",
   "execution_count": null,
   "metadata": {},
   "outputs": [],
   "source": [
    "from transformers import DataCollatorForLanguageModeling\n",
    "from transformers import TrainingArguments\n",
    "\n",
    "data_collator = DataCollatorForLanguageModeling(\n",
    "    tokenizer=tokenizer,\n",
    "    mlm=True, mlm_probability=0.15)    \n",
    "\n",
    " \n",
    "training_args = TrainingArguments(\n",
    "    output_dir=\"twimbert\",\n",
    "    overwrite_output_dir=True,\n",
    "    num_train_epochs=1,\n",
    "    per_gpu_train_batch_size=16,\n",
    "    save_total_limit=1,\n",
    ")"
   ]
  }
 ],
 "metadata": {
  "interpreter": {
   "hash": "988aea983bc49b4de6555a9151e99301026502c3eb4adf0dc68b340a087613cc"
  },
  "kernelspec": {
   "display_name": "Python 3.8.12 ('all-purpose-gpu')",
   "language": "python",
   "name": "python3"
  },
  "language_info": {
   "codemirror_mode": {
    "name": "ipython",
    "version": 3
   },
   "file_extension": ".py",
   "mimetype": "text/x-python",
   "name": "python",
   "nbconvert_exporter": "python",
   "pygments_lexer": "ipython3",
   "version": "3.8.12"
  },
  "orig_nbformat": 4
 },
 "nbformat": 4,
 "nbformat_minor": 2
}
