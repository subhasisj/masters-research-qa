{
 "cells": [
  {
   "cell_type": "markdown",
   "metadata": {},
   "source": [
    "## Knowledge Distillation for Question Answering\n",
    "\n",
    "__Teacher__: `XLM-Roberta-Large`\n",
    "\n",
    "__Student__: `Multilingual-MiniLM-L12-H384`"
   ]
  },
  {
   "cell_type": "code",
   "execution_count": 1,
   "metadata": {},
   "outputs": [
    {
     "name": "stdout",
     "output_type": "stream",
     "text": [
      "Using device: cuda\n"
     ]
    }
   ],
   "source": [
    "import torch\n",
    "\n",
    "device = torch.device('cuda' if torch.cuda.is_available() else 'cpu')\n",
    "print('Using device:', device)"
   ]
  },
  {
   "cell_type": "code",
   "execution_count": 2,
   "metadata": {},
   "outputs": [
    {
     "data": {
      "application/vnd.jupyter.widget-view+json": {
       "model_id": "899130c2d4f34dcdb5b7c050124c0dcd",
       "version_major": 2,
       "version_minor": 0
      },
      "text/plain": [
       "VBox(children=(HTML(value='<center>\\n<img src=https://huggingface.co/front/assets/huggingface_logo-noborder.sv…"
      ]
     },
     "metadata": {},
     "output_type": "display_data"
    }
   ],
   "source": [
    "from huggingface_hub import notebook_login\n",
    "notebook_login()"
   ]
  },
  {
   "cell_type": "markdown",
   "metadata": {},
   "source": [
    "## Models"
   ]
  },
  {
   "cell_type": "code",
   "execution_count": 3,
   "metadata": {},
   "outputs": [],
   "source": [
    "from transformers import (AutoModelForQuestionAnswering, AutoTokenizer,\n",
    "                          Trainer, TrainingArguments)\n",
    "\n",
    "import collections"
   ]
  },
  {
   "cell_type": "code",
   "execution_count": 4,
   "metadata": {},
   "outputs": [],
   "source": [
    "batch_size = 4\n",
    "pretraining_language = 'en'"
   ]
  },
  {
   "cell_type": "code",
   "execution_count": 5,
   "metadata": {},
   "outputs": [],
   "source": [
    "teacher = AutoModelForQuestionAnswering.from_pretrained(\"deepset/xlm-roberta-base-squad2\")\n",
    "teacher_tokenizer = AutoTokenizer.from_pretrained(\"deepset/xlm-roberta-base-squad2\")\n",
    "\n",
    "\n",
    "student_ckpt = f\"subhasisj/{pretraining_language}-TAPT-MLM-MiniLM\"\n",
    "student_tokenizer = AutoTokenizer.from_pretrained(\"xlm-roberta-base\")"
   ]
  },
  {
   "cell_type": "code",
   "execution_count": 6,
   "metadata": {},
   "outputs": [
    {
     "name": "stdout",
     "output_type": "stream",
     "text": [
      "<s> How much music can this hold?</s></s> An MP3 is about 1 MB/minute, so about 6000 hours depending on file size.</s>\n"
     ]
    }
   ],
   "source": [
    "# Tokenize text and infer from context using QA model\n",
    "question = \"How much music can this hold?\"\n",
    "context = \"\"\"An MP3 is about 1 MB/minute, so about 6000 hours depending on \\\n",
    "file size.\"\"\"\n",
    "inputs = teacher_tokenizer(question, context, return_tensors=\"pt\")\n",
    "print(teacher_tokenizer.decode(inputs[\"input_ids\"][0]))"
   ]
  },
  {
   "cell_type": "code",
   "execution_count": 7,
   "metadata": {},
   "outputs": [
    {
     "name": "stdout",
     "output_type": "stream",
     "text": [
      "QuestionAnsweringModelOutput(loss=None, start_logits=tensor([[ 1.9587, -5.5965, -6.6265, -6.0578, -6.8384, -6.3983, -5.9162, -7.4403,\n",
      "         -7.1065, -4.7744,  1.4149,  1.2864, -2.6718, -3.2817,  2.4467,  4.2245,\n",
      "          0.0827, -3.4912, -3.3558, -4.2590, -4.9737, -1.7109,  3.4588,  2.9234,\n",
      "         -1.7378, -2.4887, -4.4600, -4.0690, -0.7915, -3.4963, -4.5764, -4.2698]]), end_logits=tensor([[ 1.6167, -7.2887, -5.5725, -4.7752, -7.1230, -6.9200, -5.6986, -6.4568,\n",
      "         -6.4080, -5.3959, -4.1854, -3.4914,  0.5187, -4.4616, -2.8849, -0.9189,\n",
      "          1.9932, -2.2891, -1.3932,  3.2144,  0.5945, -2.3245, -3.3690,  0.4770,\n",
      "          4.4351, -3.9249, -1.0726, -3.9744, -2.8195,  0.6834,  2.3187, -3.3167]]), hidden_states=None, attentions=None)\n"
     ]
    }
   ],
   "source": [
    "with torch.no_grad():\n",
    "    outputs = teacher(**inputs)\n",
    "print(outputs)"
   ]
  },
  {
   "cell_type": "markdown",
   "metadata": {},
   "source": [
    "## Data"
   ]
  },
  {
   "cell_type": "code",
   "execution_count": 13,
   "metadata": {},
   "outputs": [],
   "source": [
    "import numpy as np\n",
    "import pandas as pd\n",
    "import json\n",
    "\n",
    "def squad_json_to_dataframe_train(input_file_path, record_path = ['data','paragraphs','qas','answers'],\n",
    "                           verbose = 1):\n",
    "    \"\"\"\n",
    "    input_file_path: path to the squad json file.\n",
    "    record_path: path to deepest level in json file default value is\n",
    "    ['data','paragraphs','qas','answers']\n",
    "    verbose: 0 to suppress it default is 1\n",
    "    \"\"\"\n",
    "    if verbose:\n",
    "        print(\"Reading the json file\")    \n",
    "    file = json.loads(open(input_file_path).read())\n",
    "    if verbose:\n",
    "        print(\"processing...\")\n",
    "    # parsing different level's in the json file\n",
    "    js = pd.io.json.json_normalize(file , record_path )\n",
    "    m = pd.io.json.json_normalize(file, record_path[:-1] )\n",
    "    r = pd.io.json.json_normalize(file,record_path[:-2])\n",
    "    \n",
    "    #combining it into single dataframe\n",
    "    idx = np.repeat(r['context'].values, r.qas.str.len())\n",
    "    ndx  = np.repeat(m['id'].values,m['answers'].str.len())\n",
    "    m['context'] = idx\n",
    "    js['q_idx'] = ndx\n",
    "    main = pd.concat([ m[['id','question','context']].set_index('id'),js.set_index('q_idx')],1,sort=False).reset_index()\n",
    "    main['c_id'] = main['context'].factorize()[0]\n",
    "    if verbose:\n",
    "        print(\"shape of the dataframe is {}\".format(main.shape))\n",
    "        print(\"Done\")\n",
    "    return main"
   ]
  },
  {
   "cell_type": "code",
   "execution_count": 14,
   "metadata": {},
   "outputs": [
    {
     "name": "stderr",
     "output_type": "stream",
     "text": [
      "C:\\Users\\Subha\\AppData\\Local\\Temp\\ipykernel_23172\\3870843590.py:19: FutureWarning: pandas.io.json.json_normalize is deprecated, use pandas.json_normalize instead.\n",
      "  js = pd.io.json.json_normalize(file , record_path )\n",
      "C:\\Users\\Subha\\AppData\\Local\\Temp\\ipykernel_23172\\3870843590.py:20: FutureWarning: pandas.io.json.json_normalize is deprecated, use pandas.json_normalize instead.\n",
      "  m = pd.io.json.json_normalize(file, record_path[:-1] )\n",
      "C:\\Users\\Subha\\AppData\\Local\\Temp\\ipykernel_23172\\3870843590.py:21: FutureWarning: pandas.io.json.json_normalize is deprecated, use pandas.json_normalize instead.\n",
      "  r = pd.io.json.json_normalize(file,record_path[:-2])\n",
      "C:\\Users\\Subha\\AppData\\Local\\Temp\\ipykernel_23172\\3870843590.py:28: FutureWarning: In a future version of pandas all arguments of concat except for the argument 'objs' will be keyword-only.\n",
      "  main = pd.concat([ m[['id','question','context']].set_index('id'),js.set_index('q_idx')],1,sort=False).reset_index()\n"
     ]
    }
   ],
   "source": [
    "# training data\n",
    "language = pretraining_language\n",
    "input_file_path = f'../SQuAD/translate-train/squad.translate.train.en-{language}.json'\n",
    "record_path = ['data','paragraphs','qas','answers']\n",
    "train = squad_json_to_dataframe_train(input_file_path=input_file_path,record_path=record_path,verbose=0)"
   ]
  },
  {
   "cell_type": "code",
   "execution_count": 15,
   "metadata": {},
   "outputs": [
    {
     "data": {
      "text/html": [
       "<div>\n",
       "<style scoped>\n",
       "    .dataframe tbody tr th:only-of-type {\n",
       "        vertical-align: middle;\n",
       "    }\n",
       "\n",
       "    .dataframe tbody tr th {\n",
       "        vertical-align: top;\n",
       "    }\n",
       "\n",
       "    .dataframe thead th {\n",
       "        text-align: right;\n",
       "    }\n",
       "</style>\n",
       "<table border=\"1\" class=\"dataframe\">\n",
       "  <thead>\n",
       "    <tr style=\"text-align: right;\">\n",
       "      <th></th>\n",
       "      <th>index</th>\n",
       "      <th>question</th>\n",
       "      <th>context</th>\n",
       "      <th>answer_start</th>\n",
       "      <th>text</th>\n",
       "      <th>c_id</th>\n",
       "      <th>answers</th>\n",
       "    </tr>\n",
       "  </thead>\n",
       "  <tbody>\n",
       "    <tr>\n",
       "      <th>0</th>\n",
       "      <td>56db2120e7c41114004b4dce</td>\n",
       "      <td>Wer war der Präsident der alternativen Programmierung bei Fox?</td>\n",
       "      <td>Die 8. Staffel wurde am 13. Januar 2009 uraufgeführt. Mike Darnell, der Präsident der alternativen Programmiersoftware von Fox, erklärte, die Saison werde sich mehr auf das persönliche Leben der Teilnehmer konzentrieren. Viel frühes Augenmerk in der Show konzentrierte sich daher auf die Witwerschaft von Danny Gokey.</td>\n",
       "      <td>54</td>\n",
       "      <td>Mike Darnell</td>\n",
       "      <td>0</td>\n",
       "      <td>{'answer_start': [54], 'text': ['Mike Darnell']}</td>\n",
       "    </tr>\n",
       "  </tbody>\n",
       "</table>\n",
       "</div>"
      ],
      "text/plain": [
       "                      index  \\\n",
       "0  56db2120e7c41114004b4dce   \n",
       "\n",
       "                                                         question  \\\n",
       "0  Wer war der Präsident der alternativen Programmierung bei Fox?   \n",
       "\n",
       "                                                                                                                                                                                                                                                                                                                         context  \\\n",
       "0  Die 8. Staffel wurde am 13. Januar 2009 uraufgeführt. Mike Darnell, der Präsident der alternativen Programmiersoftware von Fox, erklärte, die Saison werde sich mehr auf das persönliche Leben der Teilnehmer konzentrieren. Viel frühes Augenmerk in der Show konzentrierte sich daher auf die Witwerschaft von Danny Gokey.   \n",
       "\n",
       "   answer_start          text  c_id  \\\n",
       "0            54  Mike Darnell     0   \n",
       "\n",
       "                                            answers  \n",
       "0  {'answer_start': [54], 'text': ['Mike Darnell']}  "
      ]
     },
     "execution_count": 15,
     "metadata": {},
     "output_type": "execute_result"
    }
   ],
   "source": [
    "def get_answers(x):\n",
    "    start = x[0]\n",
    "    text = x[1]\n",
    "    return {\n",
    "        'answer_start': [start],\n",
    "        'text': [text]\n",
    "    }\n",
    "\n",
    "train['answers'] = train[['answer_start', 'text']].apply(get_answers, axis=1)\n",
    "pd.set_option('display.max_colwidth',None)\n",
    "train.head(1)"
   ]
  },
  {
   "cell_type": "code",
   "execution_count": 16,
   "metadata": {},
   "outputs": [
    {
     "name": "stderr",
     "output_type": "stream",
     "text": [
      "C:\\Users\\Subha\\AppData\\Local\\Temp\\ipykernel_23172\\3870843590.py:19: FutureWarning: pandas.io.json.json_normalize is deprecated, use pandas.json_normalize instead.\n",
      "  js = pd.io.json.json_normalize(file , record_path )\n",
      "C:\\Users\\Subha\\AppData\\Local\\Temp\\ipykernel_23172\\3870843590.py:20: FutureWarning: pandas.io.json.json_normalize is deprecated, use pandas.json_normalize instead.\n",
      "  m = pd.io.json.json_normalize(file, record_path[:-1] )\n",
      "C:\\Users\\Subha\\AppData\\Local\\Temp\\ipykernel_23172\\3870843590.py:21: FutureWarning: pandas.io.json.json_normalize is deprecated, use pandas.json_normalize instead.\n",
      "  r = pd.io.json.json_normalize(file,record_path[:-2])\n",
      "C:\\Users\\Subha\\AppData\\Local\\Temp\\ipykernel_23172\\3870843590.py:28: FutureWarning: In a future version of pandas all arguments of concat except for the argument 'objs' will be keyword-only.\n",
      "  main = pd.concat([ m[['id','question','context']].set_index('id'),js.set_index('q_idx')],1,sort=False).reset_index()\n"
     ]
    },
    {
     "data": {
      "text/html": [
       "<div>\n",
       "<style scoped>\n",
       "    .dataframe tbody tr th:only-of-type {\n",
       "        vertical-align: middle;\n",
       "    }\n",
       "\n",
       "    .dataframe tbody tr th {\n",
       "        vertical-align: top;\n",
       "    }\n",
       "\n",
       "    .dataframe thead th {\n",
       "        text-align: right;\n",
       "    }\n",
       "</style>\n",
       "<table border=\"1\" class=\"dataframe\">\n",
       "  <thead>\n",
       "    <tr style=\"text-align: right;\">\n",
       "      <th></th>\n",
       "      <th>index</th>\n",
       "      <th>question</th>\n",
       "      <th>context</th>\n",
       "      <th>answer_start</th>\n",
       "      <th>text</th>\n",
       "      <th>c_id</th>\n",
       "      <th>answers</th>\n",
       "    </tr>\n",
       "  </thead>\n",
       "  <tbody>\n",
       "    <tr>\n",
       "      <th>0</th>\n",
       "      <td>5730a951069b531400832213</td>\n",
       "      <td>Jules Ferry dachte, dass die \"höheren Rassen\" eine Pflicht zu was haben?</td>\n",
       "      <td>Es wurde zu einer moralischen Rechtfertigung, die Welt durch das Christentum und die französische Kultur auf französische Standards zu bringen. Der führende Exponent des Kolonialismus, Jules Ferry, erklärte 1884, Frankreich habe eine zivilisierende Mission: \"Die höheren Rassen haben ein Recht auf die niederen Rassen, sie haben die Pflicht, die Untergebenen zu zivilisieren\". Es wurden volle Bürgerrechte - \"Assimilation\" - angeboten, obwohl die Assimilation in Wirklichkeit immer am Horizont lag. Im Gegensatz zu Großbritannien schickte Frankreich eine kleine Anzahl von Siedlern in seine Kolonien, mit der einzigen bemerkenswerten Ausnahme in Algerien, wo die französischen Siedler dennoch immer eine kleine Minderheit blieben.</td>\n",
       "      <td>342</td>\n",
       "      <td>die Untergebenen zu zivilisieren</td>\n",
       "      <td>0</td>\n",
       "      <td>{'answer_start': [342], 'text': ['die Untergebenen zu zivilisieren']}</td>\n",
       "    </tr>\n",
       "  </tbody>\n",
       "</table>\n",
       "</div>"
      ],
      "text/plain": [
       "                      index  \\\n",
       "0  5730a951069b531400832213   \n",
       "\n",
       "                                                                   question  \\\n",
       "0  Jules Ferry dachte, dass die \"höheren Rassen\" eine Pflicht zu was haben?   \n",
       "\n",
       "                                                                                                                                                                                                                                                                                                                                                                                                                                                                                                                                                                                                                                                                                                                                                      context  \\\n",
       "0  Es wurde zu einer moralischen Rechtfertigung, die Welt durch das Christentum und die französische Kultur auf französische Standards zu bringen. Der führende Exponent des Kolonialismus, Jules Ferry, erklärte 1884, Frankreich habe eine zivilisierende Mission: \"Die höheren Rassen haben ein Recht auf die niederen Rassen, sie haben die Pflicht, die Untergebenen zu zivilisieren\". Es wurden volle Bürgerrechte - \"Assimilation\" - angeboten, obwohl die Assimilation in Wirklichkeit immer am Horizont lag. Im Gegensatz zu Großbritannien schickte Frankreich eine kleine Anzahl von Siedlern in seine Kolonien, mit der einzigen bemerkenswerten Ausnahme in Algerien, wo die französischen Siedler dennoch immer eine kleine Minderheit blieben.   \n",
       "\n",
       "   answer_start                              text  c_id  \\\n",
       "0           342  die Untergebenen zu zivilisieren     0   \n",
       "\n",
       "                                                                 answers  \n",
       "0  {'answer_start': [342], 'text': ['die Untergebenen zu zivilisieren']}  "
      ]
     },
     "execution_count": 16,
     "metadata": {},
     "output_type": "execute_result"
    }
   ],
   "source": [
    "# Validation data\n",
    "input_file_path = f'../SQuAD/translate-dev/squad.translate.dev.en-{language}.json'\n",
    "record_path = ['data','paragraphs','qas','answers']\n",
    "dev = squad_json_to_dataframe_train(input_file_path=input_file_path,record_path=record_path,verbose=0)\n",
    "dev['answers'] = dev[['answer_start', 'text']].apply(get_answers, axis=1)\n",
    "pd.set_option('display.max_colwidth',None)\n",
    "dev.head(1)"
   ]
  },
  {
   "cell_type": "markdown",
   "metadata": {},
   "source": [
    "### Create Datasets"
   ]
  },
  {
   "cell_type": "code",
   "execution_count": 17,
   "metadata": {},
   "outputs": [],
   "source": [
    "from datasets import Dataset,DatasetDict\n",
    "\n",
    "\n",
    "tds = Dataset.from_pandas(train)\n",
    "vds = Dataset.from_pandas(dev)\n",
    "\n",
    "\n",
    "squad = DatasetDict()\n",
    "\n",
    "squad['train'] = tds\n",
    "squad['validation'] = vds"
   ]
  },
  {
   "cell_type": "code",
   "execution_count": 8,
   "metadata": {},
   "outputs": [
    {
     "name": "stderr",
     "output_type": "stream",
     "text": [
      "Reusing dataset squad (C:\\Users\\Subha\\.cache\\huggingface\\datasets\\squad\\plain_text\\1.0.0\\d6ec3ceb99ca480ce37cdd35555d6cb2511d223b9150cce08a837ef62ffea453)\n"
     ]
    },
    {
     "data": {
      "application/vnd.jupyter.widget-view+json": {
       "model_id": "9f121c250f6949ed968fd80c1c62e4be",
       "version_major": 2,
       "version_minor": 0
      },
      "text/plain": [
       "  0%|          | 0/2 [00:00<?, ?it/s]"
      ]
     },
     "metadata": {},
     "output_type": "display_data"
    }
   ],
   "source": [
    "from datasets import load_dataset\n",
    "squad = load_dataset(\"squad\")"
   ]
  },
  {
   "cell_type": "code",
   "execution_count": 9,
   "metadata": {},
   "outputs": [],
   "source": [
    "pad_on_right = student_tokenizer.padding_side == \"right\"\n",
    "max_length = 384 # The maximum length of a feature (question and context)\n",
    "doc_stride = 128 # The authorized overlap between two part of the context when splitting it is needed.\n",
    "def prepare_train_features(examples):\n",
    "    # Some of the questions have lots of whitespace on the left, which is not useful and will make the\n",
    "    # truncation of the context fail (the tokenized question will take a lots of space). So we remove that\n",
    "    # left whitespace\n",
    "    examples[\"question\"] = [q.lstrip() for q in examples[\"question\"]]\n",
    "\n",
    "    # Tokenize our examples with truncation and padding, but keep the overflows using a stride. This results\n",
    "    # in one example possible giving several features when a context is long, each of those features having a\n",
    "    # context that overlaps a bit the context of the previous feature.\n",
    "    tokenized_examples = student_tokenizer(\n",
    "        examples[\"question\" if pad_on_right else \"context\"],\n",
    "        examples[\"context\" if pad_on_right else \"question\"],\n",
    "        truncation=\"only_second\" if pad_on_right else \"only_first\",\n",
    "        max_length=max_length,\n",
    "        stride=doc_stride,\n",
    "        return_overflowing_tokens=True,\n",
    "        return_offsets_mapping=True,\n",
    "        padding=\"max_length\",\n",
    "    )\n",
    "\n",
    "    # Since one example might give us several features if it has a long context, we need a map from a feature to\n",
    "    # its corresponding example. This key gives us just that.\n",
    "    sample_mapping = tokenized_examples.pop(\"overflow_to_sample_mapping\")\n",
    "    # The offset mappings will give us a map from token to character position in the original context. This will\n",
    "    # help us compute the start_positions and end_positions.\n",
    "    offset_mapping = tokenized_examples.pop(\"offset_mapping\")\n",
    "\n",
    "    # Let's label those examples!\n",
    "    tokenized_examples[\"start_positions\"] = []\n",
    "    tokenized_examples[\"end_positions\"] = []\n",
    "\n",
    "    for i, offsets in enumerate(offset_mapping):\n",
    "        # We will label impossible answers with the index of the CLS token.\n",
    "        input_ids = tokenized_examples[\"input_ids\"][i]\n",
    "        cls_index = input_ids.index(student_tokenizer.cls_token_id)\n",
    "\n",
    "        # Grab the sequence corresponding to that example (to know what is the context and what is the question).\n",
    "        sequence_ids = tokenized_examples.sequence_ids(i)\n",
    "\n",
    "        # One example can give several spans, this is the index of the example containing this span of text.\n",
    "        sample_index = sample_mapping[i]\n",
    "        answers = examples[\"answers\"][sample_index]\n",
    "        # If no answers are given, set the cls_index as answer.\n",
    "        if len(answers[\"answer_start\"]) == 0:\n",
    "            tokenized_examples[\"start_positions\"].append(cls_index)\n",
    "            tokenized_examples[\"end_positions\"].append(cls_index)\n",
    "        else:\n",
    "            # Start/end character index of the answer in the text.\n",
    "            start_char = answers[\"answer_start\"][0]\n",
    "            end_char = start_char + len(answers[\"text\"][0])\n",
    "\n",
    "            # Start token index of the current span in the text.\n",
    "            token_start_index = 0\n",
    "            while sequence_ids[token_start_index] != (1 if pad_on_right else 0):\n",
    "                token_start_index += 1\n",
    "\n",
    "            # End token index of the current span in the text.\n",
    "            token_end_index = len(input_ids) - 1\n",
    "            while sequence_ids[token_end_index] != (1 if pad_on_right else 0):\n",
    "                token_end_index -= 1\n",
    "\n",
    "            # Detect if the answer is out of the span (in which case this feature is labeled with the CLS index).\n",
    "            if not (offsets[token_start_index][0] <= start_char and offsets[token_end_index][1] >= end_char):\n",
    "                tokenized_examples[\"start_positions\"].append(cls_index)\n",
    "                tokenized_examples[\"end_positions\"].append(cls_index)\n",
    "            else:\n",
    "                # Otherwise move the token_start_index and token_end_index to the two ends of the answer.\n",
    "                # Note: we could go after the last offset if the answer is the last word (edge case).\n",
    "                while token_start_index < len(offsets) and offsets[token_start_index][0] <= start_char:\n",
    "                    token_start_index += 1\n",
    "                tokenized_examples[\"start_positions\"].append(token_start_index - 1)\n",
    "                while offsets[token_end_index][1] >= end_char:\n",
    "                    token_end_index -= 1\n",
    "                tokenized_examples[\"end_positions\"].append(token_end_index + 1)\n",
    "\n",
    "    return tokenized_examples\n",
    "\n",
    "def prepare_validation_features(examples):\n",
    "    # Some of the questions have lots of whitespace on the left, which is not useful and will make the\n",
    "    # truncation of the context fail (the tokenized question will take a lots of space). So we remove that\n",
    "    # left whitespace\n",
    "    examples[\"question\"] = [q.lstrip() for q in examples[\"question\"]]\n",
    "\n",
    "    # Tokenize our examples with truncation and maybe padding, but keep the overflows using a stride. This results\n",
    "    # in one example possible giving several features when a context is long, each of those features having a\n",
    "    # context that overlaps a bit the context of the previous feature.\n",
    "    tokenized_examples = tokenizer(\n",
    "        examples[\"question\" if pad_on_right else \"context\"],\n",
    "        examples[\"context\" if pad_on_right else \"question\"],\n",
    "        truncation=\"only_second\" if pad_on_right else \"only_first\",\n",
    "        max_length=max_length,\n",
    "        stride=doc_stride,\n",
    "        return_overflowing_tokens=True,\n",
    "        return_offsets_mapping=True,\n",
    "        padding=\"max_length\",\n",
    "    )\n",
    "\n",
    "    # Since one example might give us several features if it has a long context, we need a map from a feature to\n",
    "    # its corresponding example. This key gives us just that.\n",
    "    sample_mapping = tokenized_examples.pop(\"overflow_to_sample_mapping\")\n",
    "\n",
    "    # We keep the example_id that gave us this feature and we will store the offset mappings.\n",
    "    tokenized_examples[\"example_id\"] = []\n",
    "\n",
    "    for i in range(len(tokenized_examples[\"input_ids\"])):\n",
    "        # Grab the sequence corresponding to that example (to know what is the context and what is the question).\n",
    "        sequence_ids = tokenized_examples.sequence_ids(i)\n",
    "        context_index = 1 if pad_on_right else 0\n",
    "\n",
    "        # One example can give several spans, this is the index of the example containing this span of text.\n",
    "        sample_index = sample_mapping[i]\n",
    "        tokenized_examples[\"example_id\"].append(examples[\"id\"][sample_index])\n",
    "\n",
    "        # Set to None the offset_mapping that are not part of the context so it's easy to determine if a token\n",
    "        # position is part of the context or not.\n",
    "        tokenized_examples[\"offset_mapping\"][i] = [\n",
    "            (o if sequence_ids[k] == context_index else None)\n",
    "            for k, o in enumerate(tokenized_examples[\"offset_mapping\"][i])\n",
    "        ]\n",
    "\n",
    "    return tokenized_examples\n",
    "\n",
    "def postprocess_qa_predictions(\n",
    "    examples, features, raw_predictions, n_best_size=20, max_answer_length=30\n",
    "):\n",
    "    all_start_logits, all_end_logits = raw_predictions\n",
    "    # Build a map example to its corresponding features.\n",
    "    example_id_to_index = {k: i for i, k in enumerate(examples[\"id\"])}\n",
    "    features_per_example = collections.defaultdict(list)\n",
    "    for i, feature in enumerate(features):\n",
    "        features_per_example[example_id_to_index[feature[\"example_id\"]]].append(i)\n",
    "\n",
    "    # The dictionaries we have to fill.\n",
    "    predictions = collections.OrderedDict()\n",
    "\n",
    "    # Logging.\n",
    "    print(\n",
    "        f\"Post-processing {len(examples)} example predictions split into {len(features)} features.\"\n",
    "    )\n",
    "\n",
    "    # Let's loop over all the examples!\n",
    "    for example_index, example in enumerate(tqdm(examples)):\n",
    "        # Those are the indices of the features associated to the current example.\n",
    "        feature_indices = features_per_example[example_index]\n",
    "\n",
    "        min_null_score = None  # Only used if squad_v2 is True.\n",
    "        valid_answers = []\n",
    "\n",
    "        context = example[\"context\"]\n",
    "        # Looping through all the features associated to the current example.\n",
    "        for feature_index in feature_indices:\n",
    "            # We grab the predictions of the model for this feature.\n",
    "            start_logits = all_start_logits[feature_index]\n",
    "            end_logits = all_end_logits[feature_index]\n",
    "            # This is what will allow us to map some the positions in our logits to span of texts in the original\n",
    "            # context.\n",
    "            offset_mapping = features[feature_index][\"offset_mapping\"]\n",
    "\n",
    "            # Update minimum null prediction.\n",
    "            cls_index = features[feature_index][\"input_ids\"].index(\n",
    "                tokenizer.cls_token_id\n",
    "            )\n",
    "            feature_null_score = start_logits[cls_index] + end_logits[cls_index]\n",
    "            if min_null_score is None or min_null_score < feature_null_score:\n",
    "                min_null_score = feature_null_score\n",
    "\n",
    "            # Go through all possibilities for the `n_best_size` greater start and end logits.\n",
    "            start_indexes = np.argsort(start_logits)[\n",
    "                -1 : -n_best_size - 1 : -1\n",
    "            ].tolist()\n",
    "            end_indexes = np.argsort(end_logits)[-1 : -n_best_size - 1 : -1].tolist()\n",
    "            for start_index in start_indexes:\n",
    "                for end_index in end_indexes:\n",
    "                    # Don't consider out-of-scope answers, either because the indices are out of bounds or correspond\n",
    "                    # to part of the input_ids that are not in the context.\n",
    "                    if (\n",
    "                        start_index >= len(offset_mapping)\n",
    "                        or end_index >= len(offset_mapping)\n",
    "                        or offset_mapping[start_index] is None\n",
    "                        or offset_mapping[end_index] is None\n",
    "                        or offset_mapping[start_index] == []\n",
    "                        or offset_mapping[end_index] == []\n",
    "                    ):\n",
    "                        continue\n",
    "                    # Don't consider answers with a length that is either < 0 or > max_answer_length.\n",
    "                    if (\n",
    "                        end_index < start_index\n",
    "                        or end_index - start_index + 1 > max_answer_length\n",
    "                    ):\n",
    "                        continue\n",
    "\n",
    "                    start_char = offset_mapping[start_index][0]\n",
    "                    end_char = offset_mapping[end_index][1]\n",
    "                    valid_answers.append(\n",
    "                        {\n",
    "                            \"score\": start_logits[start_index] + end_logits[end_index],\n",
    "                            \"text\": context[start_char:end_char],\n",
    "                        }\n",
    "                    )\n",
    "\n",
    "        if len(valid_answers) > 0:\n",
    "            best_answer = sorted(valid_answers, key=lambda x: x[\"score\"], reverse=True)[\n",
    "                0\n",
    "            ]\n",
    "        else:\n",
    "            # In the very rare edge case we have not a single non-null prediction, we create a fake prediction to avoid\n",
    "            # failure.\n",
    "            best_answer = {\"text\": \"\", \"score\": 0.0}\n",
    "\n",
    "        # Let's pick our final answer: the best one or the null answer (only for squad_v2)\n",
    "        # if not squad_v2:\n",
    "        # predictions[example[\"id\"]] = best_answer[\"text\"]\n",
    "        # else:\n",
    "        answer = best_answer[\"text\"] if best_answer[\"score\"] > min_null_score else \"\"\n",
    "        predictions[example[\"id\"]] = answer\n",
    "\n",
    "    return predictions"
   ]
  },
  {
   "cell_type": "code",
   "execution_count": null,
   "metadata": {},
   "outputs": [],
   "source": []
  },
  {
   "cell_type": "code",
   "execution_count": 10,
   "metadata": {},
   "outputs": [
    {
     "name": "stderr",
     "output_type": "stream",
     "text": [
      "Loading cached processed dataset at C:\\Users\\Subha\\.cache\\huggingface\\datasets\\squad\\plain_text\\1.0.0\\d6ec3ceb99ca480ce37cdd35555d6cb2511d223b9150cce08a837ef62ffea453\\cache-df71c0ea18dee511.arrow\n"
     ]
    },
    {
     "data": {
      "application/vnd.jupyter.widget-view+json": {
       "model_id": "90c1c453dd7b499eb55d77afaa7397fa",
       "version_major": 2,
       "version_minor": 0
      },
      "text/plain": [
       "  0%|          | 0/11 [00:00<?, ?ba/s]"
      ]
     },
     "metadata": {},
     "output_type": "display_data"
    }
   ],
   "source": [
    "squad = squad.map(prepare_train_features,batched=True,remove_columns=squad[\"train\"].column_names)"
   ]
  },
  {
   "cell_type": "markdown",
   "metadata": {},
   "source": [
    "## Training"
   ]
  },
  {
   "cell_type": "code",
   "execution_count": 11,
   "metadata": {},
   "outputs": [],
   "source": [
    "import torch.nn as nn\n",
    "import torch.nn.functional as F\n",
    "\n",
    "class DistillationTrainingArguments(TrainingArguments):\n",
    "    def __init__(self, *args, alpha=0.5, temperature=2.0, **kwargs):\n",
    "        super().__init__(*args, **kwargs)\n",
    "        self.alpha = alpha\n",
    "        self.temperature = temperature\n",
    "\n",
    "class DistillationTrainer(Trainer):\n",
    "    def __init__(self, *args, teacher_model=None, **kwargs):\n",
    "        super().__init__(*args, **kwargs)\n",
    "        self.teacher_model = teacher_model\n",
    "\n",
    "    def compute_loss(self, model, inputs,return_outputs=False):\n",
    "        outputs_stu = model(**inputs)\n",
    "        # Extract cross-entropy loss and logits from student\n",
    "        loss_ce = outputs_stu.loss\n",
    "        # Extract logits from teacher\n",
    "        with torch.no_grad():\n",
    "            outputs_tea = self.teacher_model(**inputs)\n",
    "            start_logits_tea = outputs_tea.start_logits\n",
    "            end_logits_tea = outputs_tea.end_logits\n",
    "        # Soften probabilities and compute distillation loss\n",
    "        loss_fct = nn.KLDivLoss(reduction=\"batchmean\")\n",
    "        \n",
    "        loss_start = loss_fct(\n",
    "                    nn.functional.log_softmax(outputs_stu.start_logits / self.args.temperature, dim=-1),\n",
    "                    nn.functional.softmax(start_logits_tea / self.args.temperature, dim=-1),\n",
    "                ) * (self.args.temperature**2)\n",
    "        loss_end = loss_fct(\n",
    "            nn.functional.log_softmax(outputs_stu.end_logits / self.args.temperature, dim=-1),\n",
    "            nn.functional.softmax(end_logits_tea / self.args.temperature, dim=-1),\n",
    "        ) * (self.args.temperature**2)\n",
    "        loss_kd = (loss_start + loss_end) / 2.0\n",
    "\n",
    "        loss = self.args.alpha * loss_ce + (1 - self.args.alpha) * loss_kd\n",
    "\n",
    "        return loss"
   ]
  },
  {
   "cell_type": "code",
   "execution_count": 12,
   "metadata": {},
   "outputs": [
    {
     "name": "stderr",
     "output_type": "stream",
     "text": [
      "loading configuration file https://huggingface.co/subhasisj/en-TAPT-MLM-MiniLM/resolve/main/config.json from cache at C:\\Users\\Subha/.cache\\huggingface\\transformers\\8b4816e9caacf92de112b26ffc9f52aab76d3d653090de57337d2725e12916fa.e10bd0b72b4099c977ef126c1372e211950889239eb7513aba618c575d204753\n",
      "Model config BertConfig {\n",
      "  \"_name_or_path\": \"subhasisj/en-TAPT-MLM-MiniLM\",\n",
      "  \"architectures\": [\n",
      "    \"BertForMaskedLM\"\n",
      "  ],\n",
      "  \"attention_probs_dropout_prob\": 0.1,\n",
      "  \"classifier_dropout\": null,\n",
      "  \"hidden_act\": \"gelu\",\n",
      "  \"hidden_dropout_prob\": 0.1,\n",
      "  \"hidden_size\": 384,\n",
      "  \"initializer_range\": 0.02,\n",
      "  \"intermediate_size\": 1536,\n",
      "  \"layer_norm_eps\": 1e-12,\n",
      "  \"max_position_embeddings\": 512,\n",
      "  \"model_type\": \"bert\",\n",
      "  \"num_attention_heads\": 12,\n",
      "  \"num_hidden_layers\": 12,\n",
      "  \"pad_token_id\": 0,\n",
      "  \"position_embedding_type\": \"absolute\",\n",
      "  \"tokenizer_class\": \"XLMRobertaTokenizer\",\n",
      "  \"torch_dtype\": \"float32\",\n",
      "  \"transformers_version\": \"4.18.0\",\n",
      "  \"type_vocab_size\": 2,\n",
      "  \"use_cache\": true,\n",
      "  \"vocab_size\": 250037\n",
      "}\n",
      "\n",
      "https://huggingface.co/subhasisj/en-TAPT-MLM-MiniLM/resolve/main/pytorch_model.bin not found in cache or force_download set to True, downloading to C:\\Users\\Subha\\.cache\\huggingface\\transformers\\tmpoerzou9k\n"
     ]
    },
    {
     "data": {
      "application/vnd.jupyter.widget-view+json": {
       "model_id": "ad2be50f6a4f437ebf6ad59c78f0d641",
       "version_major": 2,
       "version_minor": 0
      },
      "text/plain": [
       "Downloading:   0%|          | 0.00/450M [00:00<?, ?B/s]"
      ]
     },
     "metadata": {},
     "output_type": "display_data"
    },
    {
     "name": "stderr",
     "output_type": "stream",
     "text": [
      "storing https://huggingface.co/subhasisj/en-TAPT-MLM-MiniLM/resolve/main/pytorch_model.bin in cache at C:\\Users\\Subha/.cache\\huggingface\\transformers\\a1e75a81f215fe95befe29376d314de3ced96c4b880ff2f7e313a5ae41d445b2.adfa05f5140e4af7ae4b32ff7ceb4131265c3e4aa79a67964d941e6df193cc7b\n",
      "creating metadata file for C:\\Users\\Subha/.cache\\huggingface\\transformers\\a1e75a81f215fe95befe29376d314de3ced96c4b880ff2f7e313a5ae41d445b2.adfa05f5140e4af7ae4b32ff7ceb4131265c3e4aa79a67964d941e6df193cc7b\n",
      "loading weights file https://huggingface.co/subhasisj/en-TAPT-MLM-MiniLM/resolve/main/pytorch_model.bin from cache at C:\\Users\\Subha/.cache\\huggingface\\transformers\\a1e75a81f215fe95befe29376d314de3ced96c4b880ff2f7e313a5ae41d445b2.adfa05f5140e4af7ae4b32ff7ceb4131265c3e4aa79a67964d941e6df193cc7b\n",
      "Some weights of the model checkpoint at subhasisj/en-TAPT-MLM-MiniLM were not used when initializing BertForQuestionAnswering: ['cls.predictions.transform.dense.bias', 'cls.predictions.transform.LayerNorm.bias', 'cls.predictions.decoder.bias', 'cls.predictions.transform.dense.weight', 'cls.predictions.bias', 'cls.predictions.decoder.weight', 'cls.predictions.transform.LayerNorm.weight']\n",
      "- This IS expected if you are initializing BertForQuestionAnswering from the checkpoint of a model trained on another task or with another architecture (e.g. initializing a BertForSequenceClassification model from a BertForPreTraining model).\n",
      "- This IS NOT expected if you are initializing BertForQuestionAnswering from the checkpoint of a model that you expect to be exactly identical (initializing a BertForSequenceClassification model from a BertForSequenceClassification model).\n",
      "Some weights of BertForQuestionAnswering were not initialized from the model checkpoint at subhasisj/en-TAPT-MLM-MiniLM and are newly initialized: ['qa_outputs.weight', 'qa_outputs.bias']\n",
      "You should probably TRAIN this model on a down-stream task to be able to use it for predictions and inference.\n",
      "Cloning https://huggingface.co/subhasisj/en-kd-XLM-minilmv2-4 into local empty directory.\n",
      "Using amp half precision backend\n"
     ]
    }
   ],
   "source": [
    "from transformers import default_data_collator\n",
    "\n",
    "\n",
    "from tqdm.auto import tqdm\n",
    "\n",
    "\n",
    "def compute_metrics(start_logits, end_logits, features, examples):\n",
    "    example_to_features = collections.defaultdict(list)\n",
    "    for idx, feature in enumerate(features):\n",
    "        example_to_features[feature[\"example_id\"]].append(idx)\n",
    "\n",
    "    predicted_answers = []\n",
    "    for example in tqdm(examples):\n",
    "        example_id = example[\"id\"]\n",
    "        context = example[\"context\"]\n",
    "        answers = []\n",
    "\n",
    "        # Loop through all features associated with that example\n",
    "        for feature_index in example_to_features[example_id]:\n",
    "            start_logit = start_logits[feature_index]\n",
    "            end_logit = end_logits[feature_index]\n",
    "            offsets = features[feature_index][\"offset_mapping\"]\n",
    "\n",
    "            start_indexes = np.argsort(start_logit)[-1 : -n_best - 1 : -1].tolist()\n",
    "            end_indexes = np.argsort(end_logit)[-1 : -n_best - 1 : -1].tolist()\n",
    "            for start_index in start_indexes:\n",
    "                for end_index in end_indexes:\n",
    "                    # Skip answers that are not fully in the context\n",
    "                    if offsets[start_index] is None or offsets[end_index] is None:\n",
    "                        continue\n",
    "                    # Skip answers with a length that is either < 0 or > max_answer_length\n",
    "                    if (\n",
    "                        end_index < start_index\n",
    "                        or end_index - start_index + 1 > max_answer_length\n",
    "                    ):\n",
    "                        continue\n",
    "\n",
    "                    answer = {\n",
    "                        \"text\": context[offsets[start_index][0] : offsets[end_index][1]],\n",
    "                        \"logit_score\": start_logit[start_index] + end_logit[end_index],\n",
    "                    }\n",
    "                    answers.append(answer)\n",
    "\n",
    "        # Select the answer with the best score\n",
    "        if len(answers) > 0:\n",
    "            best_answer = max(answers, key=lambda x: x[\"logit_score\"])\n",
    "            predicted_answers.append(\n",
    "                {\"id\": example_id, \"prediction_text\": best_answer[\"text\"]}\n",
    "            )\n",
    "        else:\n",
    "            predicted_answers.append({\"id\": example_id, \"prediction_text\": \"\"})\n",
    "\n",
    "    theoretical_answers = [{\"id\": ex[\"id\"], \"answers\": ex[\"answers\"]} for ex in examples]\n",
    "    return metric.compute(predictions=predicted_answers, references=theoretical_answers)\n",
    "    \n",
    "def student_init():\n",
    "    return AutoModelForQuestionAnswering.from_pretrained(\n",
    "        f\"subhasisj/{pretraining_language}-TAPT-MLM-MiniLM\"\n",
    "    ).to(device)\n",
    "\n",
    "\n",
    "student_training_args = DistillationTrainingArguments(\n",
    "    output_dir = f\"./{pretraining_language}-kd-XLM-minilmv2-{batch_size}\",\n",
    "    # evaluation_strategy=\"epoch\",\n",
    "    save_strategy = \"epoch\",\n",
    "    learning_rate = 3e-5,\n",
    "    num_train_epochs=5,\n",
    "    per_device_train_batch_size=batch_size,\n",
    "    # per_device_eval_batch_size=batch_size,\n",
    "    temperature = 2.0,\n",
    "    alpha=0.5,\n",
    "    warmup_ratio = 0.1,\n",
    "    fp16=True,\n",
    "    gradient_accumulation_steps = 8,\n",
    "    weight_decay=0.01,\n",
    "    push_to_hub=True,\n",
    "    save_total_limit=1,\n",
    "    # load_best_model_at_end=True\n",
    ")\n",
    "\n",
    "teacher.to(device)\n",
    "\n",
    "\n",
    "data_collator = default_data_collator\n",
    "\n",
    "distil_trainer = DistillationTrainer(\n",
    "    model_init=student_init,\n",
    "    teacher_model=teacher,\n",
    "    args=student_training_args,\n",
    "    train_dataset=squad[\"train\"],\n",
    "    # eval_dataset=squad[\"validation\"],\n",
    "    data_collator=data_collator,\n",
    "    tokenizer=student_tokenizer,\n",
    "    # compute_metrics=compute_metrics,\n",
    ")\n"
   ]
  },
  {
   "cell_type": "code",
   "execution_count": 13,
   "metadata": {},
   "outputs": [
    {
     "name": "stderr",
     "output_type": "stream",
     "text": [
      "loading configuration file https://huggingface.co/subhasisj/en-TAPT-MLM-MiniLM/resolve/main/config.json from cache at C:\\Users\\Subha/.cache\\huggingface\\transformers\\8b4816e9caacf92de112b26ffc9f52aab76d3d653090de57337d2725e12916fa.e10bd0b72b4099c977ef126c1372e211950889239eb7513aba618c575d204753\n",
      "Model config BertConfig {\n",
      "  \"_name_or_path\": \"subhasisj/en-TAPT-MLM-MiniLM\",\n",
      "  \"architectures\": [\n",
      "    \"BertForMaskedLM\"\n",
      "  ],\n",
      "  \"attention_probs_dropout_prob\": 0.1,\n",
      "  \"classifier_dropout\": null,\n",
      "  \"hidden_act\": \"gelu\",\n",
      "  \"hidden_dropout_prob\": 0.1,\n",
      "  \"hidden_size\": 384,\n",
      "  \"initializer_range\": 0.02,\n",
      "  \"intermediate_size\": 1536,\n",
      "  \"layer_norm_eps\": 1e-12,\n",
      "  \"max_position_embeddings\": 512,\n",
      "  \"model_type\": \"bert\",\n",
      "  \"num_attention_heads\": 12,\n",
      "  \"num_hidden_layers\": 12,\n",
      "  \"pad_token_id\": 0,\n",
      "  \"position_embedding_type\": \"absolute\",\n",
      "  \"tokenizer_class\": \"XLMRobertaTokenizer\",\n",
      "  \"torch_dtype\": \"float32\",\n",
      "  \"transformers_version\": \"4.18.0\",\n",
      "  \"type_vocab_size\": 2,\n",
      "  \"use_cache\": true,\n",
      "  \"vocab_size\": 250037\n",
      "}\n",
      "\n",
      "loading weights file https://huggingface.co/subhasisj/en-TAPT-MLM-MiniLM/resolve/main/pytorch_model.bin from cache at C:\\Users\\Subha/.cache\\huggingface\\transformers\\a1e75a81f215fe95befe29376d314de3ced96c4b880ff2f7e313a5ae41d445b2.adfa05f5140e4af7ae4b32ff7ceb4131265c3e4aa79a67964d941e6df193cc7b\n",
      "Some weights of the model checkpoint at subhasisj/en-TAPT-MLM-MiniLM were not used when initializing BertForQuestionAnswering: ['cls.predictions.transform.dense.bias', 'cls.predictions.transform.LayerNorm.bias', 'cls.predictions.decoder.bias', 'cls.predictions.transform.dense.weight', 'cls.predictions.bias', 'cls.predictions.decoder.weight', 'cls.predictions.transform.LayerNorm.weight']\n",
      "- This IS expected if you are initializing BertForQuestionAnswering from the checkpoint of a model trained on another task or with another architecture (e.g. initializing a BertForSequenceClassification model from a BertForPreTraining model).\n",
      "- This IS NOT expected if you are initializing BertForQuestionAnswering from the checkpoint of a model that you expect to be exactly identical (initializing a BertForSequenceClassification model from a BertForSequenceClassification model).\n",
      "Some weights of BertForQuestionAnswering were not initialized from the model checkpoint at subhasisj/en-TAPT-MLM-MiniLM and are newly initialized: ['qa_outputs.weight', 'qa_outputs.bias']\n",
      "You should probably TRAIN this model on a down-stream task to be able to use it for predictions and inference.\n",
      "d:\\Anaconda\\envs\\all-purpose-gpu\\lib\\site-packages\\transformers\\optimization.py:306: FutureWarning: This implementation of AdamW is deprecated and will be removed in a future version. Use the PyTorch implementation torch.optim.AdamW instead, or set `no_deprecation_warning=True` to disable this warning\n",
      "  warnings.warn(\n",
      "***** Running training *****\n",
      "  Num examples = 89597\n",
      "  Num Epochs = 5\n",
      "  Instantaneous batch size per device = 4\n",
      "  Total train batch size (w. parallel, distributed & accumulation) = 32\n",
      "  Gradient Accumulation steps = 8\n",
      "  Total optimization steps = 14000\n"
     ]
    },
    {
     "data": {
      "application/vnd.jupyter.widget-view+json": {
       "model_id": "76638cd72b514b6fa913162e9088903f",
       "version_major": 2,
       "version_minor": 0
      },
      "text/plain": [
       "  0%|          | 0/14000 [00:00<?, ?it/s]"
      ]
     },
     "metadata": {},
     "output_type": "display_data"
    },
    {
     "name": "stdout",
     "output_type": "stream",
     "text": [
      "{'loss': 6.5664, 'learning_rate': 1.0714285714285714e-05, 'epoch': 0.18}\n",
      "{'loss': 4.2442, 'learning_rate': 2.1428571428571428e-05, 'epoch': 0.36}\n",
      "{'loss': 2.8929, 'learning_rate': 2.9764285714285715e-05, 'epoch': 0.54}\n",
      "{'loss': 1.778, 'learning_rate': 2.8573809523809524e-05, 'epoch': 0.71}\n",
      "{'loss': 1.2159, 'learning_rate': 2.7385714285714285e-05, 'epoch': 0.89}\n"
     ]
    },
    {
     "name": "stderr",
     "output_type": "stream",
     "text": [
      "Saving model checkpoint to ./en-kd-XLM-minilmv2-4\\checkpoint-2800\n",
      "Configuration saved in ./en-kd-XLM-minilmv2-4\\checkpoint-2800\\config.json\n",
      "Model weights saved in ./en-kd-XLM-minilmv2-4\\checkpoint-2800\\pytorch_model.bin\n",
      "tokenizer config file saved in ./en-kd-XLM-minilmv2-4\\checkpoint-2800\\tokenizer_config.json\n",
      "Special tokens file saved in ./en-kd-XLM-minilmv2-4\\checkpoint-2800\\special_tokens_map.json\n",
      "tokenizer config file saved in ./en-kd-XLM-minilmv2-4\\tokenizer_config.json\n",
      "Special tokens file saved in ./en-kd-XLM-minilmv2-4\\special_tokens_map.json\n",
      "Adding files tracked by Git LFS: ['tokenizer.json']. This may take a bit of time if the files are large.\n"
     ]
    },
    {
     "name": "stdout",
     "output_type": "stream",
     "text": [
      "{'loss': 0.9848, 'learning_rate': 2.6195238095238094e-05, 'epoch': 1.07}\n",
      "{'loss': 0.8312, 'learning_rate': 2.5004761904761907e-05, 'epoch': 1.25}\n",
      "{'loss': 0.7867, 'learning_rate': 2.3814285714285716e-05, 'epoch': 1.43}\n",
      "{'loss': 0.7553, 'learning_rate': 2.2623809523809525e-05, 'epoch': 1.61}\n",
      "{'loss': 0.7382, 'learning_rate': 2.1433333333333334e-05, 'epoch': 1.79}\n",
      "{'loss': 0.7328, 'learning_rate': 2.0242857142857143e-05, 'epoch': 1.96}\n"
     ]
    },
    {
     "name": "stderr",
     "output_type": "stream",
     "text": [
      "Saving model checkpoint to ./en-kd-XLM-minilmv2-4\\checkpoint-5600\n",
      "Configuration saved in ./en-kd-XLM-minilmv2-4\\checkpoint-5600\\config.json\n",
      "Model weights saved in ./en-kd-XLM-minilmv2-4\\checkpoint-5600\\pytorch_model.bin\n",
      "tokenizer config file saved in ./en-kd-XLM-minilmv2-4\\checkpoint-5600\\tokenizer_config.json\n",
      "Special tokens file saved in ./en-kd-XLM-minilmv2-4\\checkpoint-5600\\special_tokens_map.json\n",
      "Deleting older checkpoint [en-kd-XLM-minilmv2-4\\checkpoint-2800] due to args.save_total_limit\n"
     ]
    },
    {
     "name": "stdout",
     "output_type": "stream",
     "text": [
      "{'loss': 0.6789, 'learning_rate': 1.9052380952380955e-05, 'epoch': 2.14}\n",
      "{'loss': 0.6526, 'learning_rate': 1.786190476190476e-05, 'epoch': 2.32}\n",
      "{'loss': 0.6387, 'learning_rate': 1.6671428571428573e-05, 'epoch': 2.5}\n",
      "{'loss': 0.6377, 'learning_rate': 1.5480952380952382e-05, 'epoch': 2.68}\n",
      "{'loss': 0.6313, 'learning_rate': 1.4295238095238095e-05, 'epoch': 2.86}\n"
     ]
    },
    {
     "name": "stderr",
     "output_type": "stream",
     "text": [
      "Saving model checkpoint to ./en-kd-XLM-minilmv2-4\\checkpoint-8400\n",
      "Configuration saved in ./en-kd-XLM-minilmv2-4\\checkpoint-8400\\config.json\n",
      "Model weights saved in ./en-kd-XLM-minilmv2-4\\checkpoint-8400\\pytorch_model.bin\n",
      "tokenizer config file saved in ./en-kd-XLM-minilmv2-4\\checkpoint-8400\\tokenizer_config.json\n",
      "Special tokens file saved in ./en-kd-XLM-minilmv2-4\\checkpoint-8400\\special_tokens_map.json\n",
      "Deleting older checkpoint [en-kd-XLM-minilmv2-4\\checkpoint-5600] due to args.save_total_limit\n"
     ]
    },
    {
     "name": "stdout",
     "output_type": "stream",
     "text": [
      "{'loss': 0.6238, 'learning_rate': 1.3104761904761905e-05, 'epoch': 3.04}\n",
      "{'loss': 0.582, 'learning_rate': 1.1914285714285714e-05, 'epoch': 3.21}\n",
      "{'loss': 0.5842, 'learning_rate': 1.0723809523809525e-05, 'epoch': 3.39}\n",
      "{'loss': 0.5817, 'learning_rate': 9.533333333333334e-06, 'epoch': 3.57}\n",
      "{'loss': 0.5853, 'learning_rate': 8.342857142857143e-06, 'epoch': 3.75}\n",
      "{'loss': 0.5804, 'learning_rate': 7.152380952380952e-06, 'epoch': 3.93}\n"
     ]
    },
    {
     "name": "stderr",
     "output_type": "stream",
     "text": [
      "Saving model checkpoint to ./en-kd-XLM-minilmv2-4\\checkpoint-11200\n",
      "Configuration saved in ./en-kd-XLM-minilmv2-4\\checkpoint-11200\\config.json\n",
      "Model weights saved in ./en-kd-XLM-minilmv2-4\\checkpoint-11200\\pytorch_model.bin\n",
      "tokenizer config file saved in ./en-kd-XLM-minilmv2-4\\checkpoint-11200\\tokenizer_config.json\n",
      "Special tokens file saved in ./en-kd-XLM-minilmv2-4\\checkpoint-11200\\special_tokens_map.json\n",
      "Deleting older checkpoint [en-kd-XLM-minilmv2-4\\checkpoint-8400] due to args.save_total_limit\n"
     ]
    },
    {
     "name": "stdout",
     "output_type": "stream",
     "text": [
      "{'loss': 0.5497, 'learning_rate': 5.961904761904762e-06, 'epoch': 4.11}\n",
      "{'loss': 0.5481, 'learning_rate': 4.771428571428572e-06, 'epoch': 4.29}\n",
      "{'loss': 0.5464, 'learning_rate': 3.580952380952381e-06, 'epoch': 4.46}\n",
      "{'loss': 0.5443, 'learning_rate': 2.3904761904761905e-06, 'epoch': 4.64}\n",
      "{'loss': 0.5383, 'learning_rate': 1.2000000000000002e-06, 'epoch': 4.82}\n"
     ]
    },
    {
     "name": "stderr",
     "output_type": "stream",
     "text": [
      "Saving model checkpoint to ./en-kd-XLM-minilmv2-4\\checkpoint-14000\n",
      "Configuration saved in ./en-kd-XLM-minilmv2-4\\checkpoint-14000\\config.json\n"
     ]
    },
    {
     "name": "stdout",
     "output_type": "stream",
     "text": [
      "{'loss': 0.5453, 'learning_rate': 9.523809523809524e-09, 'epoch': 5.0}\n"
     ]
    },
    {
     "name": "stderr",
     "output_type": "stream",
     "text": [
      "Model weights saved in ./en-kd-XLM-minilmv2-4\\checkpoint-14000\\pytorch_model.bin\n",
      "tokenizer config file saved in ./en-kd-XLM-minilmv2-4\\checkpoint-14000\\tokenizer_config.json\n",
      "Special tokens file saved in ./en-kd-XLM-minilmv2-4\\checkpoint-14000\\special_tokens_map.json\n",
      "tokenizer config file saved in ./en-kd-XLM-minilmv2-4\\tokenizer_config.json\n",
      "Special tokens file saved in ./en-kd-XLM-minilmv2-4\\special_tokens_map.json\n",
      "Deleting older checkpoint [en-kd-XLM-minilmv2-4\\checkpoint-11200] due to args.save_total_limit\n",
      "\n",
      "\n",
      "Training completed. Do not forget to share your model on huggingface.co/models =)\n",
      "\n",
      "\n"
     ]
    },
    {
     "name": "stdout",
     "output_type": "stream",
     "text": [
      "{'train_runtime': 16099.137, 'train_samples_per_second': 27.827, 'train_steps_per_second': 0.87, 'train_loss': 1.127668940952846, 'epoch': 5.0}\n"
     ]
    },
    {
     "data": {
      "text/plain": [
       "TrainOutput(global_step=14000, training_loss=1.127668940952846, metrics={'train_runtime': 16099.137, 'train_samples_per_second': 27.827, 'train_steps_per_second': 0.87, 'train_loss': 1.127668940952846, 'epoch': 5.0})"
      ]
     },
     "execution_count": 13,
     "metadata": {},
     "output_type": "execute_result"
    }
   ],
   "source": [
    "distil_trainer.train()"
   ]
  },
  {
   "cell_type": "code",
   "execution_count": 14,
   "metadata": {},
   "outputs": [
    {
     "name": "stderr",
     "output_type": "stream",
     "text": [
      "Saving model checkpoint to ./en-kd-XLM-minilmv2-4\n",
      "Configuration saved in ./en-kd-XLM-minilmv2-4\\config.json\n",
      "Model weights saved in ./en-kd-XLM-minilmv2-4\\pytorch_model.bin\n",
      "tokenizer config file saved in ./en-kd-XLM-minilmv2-4\\tokenizer_config.json\n",
      "Special tokens file saved in ./en-kd-XLM-minilmv2-4\\special_tokens_map.json\n",
      "Several commits (2) will be pushed upstream.\n",
      "The progress bars may be unreliable.\n"
     ]
    },
    {
     "data": {
      "application/vnd.jupyter.widget-view+json": {
       "model_id": "f96fccda6ed04bcd92079e3e632a3198",
       "version_major": 2,
       "version_minor": 0
      },
      "text/plain": [
       "Upload file pytorch_model.bin:   0%|          | 32.0k/448M [00:00<?, ?B/s]"
      ]
     },
     "metadata": {},
     "output_type": "display_data"
    },
    {
     "data": {
      "application/vnd.jupyter.widget-view+json": {
       "model_id": "91a7466f0cfe4cc28e456c65948eb522",
       "version_major": 2,
       "version_minor": 0
      },
      "text/plain": [
       "Upload file runs/May17_14-11-13_DESKTOP-638AK67/events.out.tfevents.1652776929.DESKTOP-638AK67: 100%|#########…"
      ]
     },
     "metadata": {},
     "output_type": "display_data"
    },
    {
     "name": "stderr",
     "output_type": "stream",
     "text": [
      "remote: Enforcing permissions...        \n",
      "remote: Allowed refs: all        \n",
      "remote: error: cannot lock ref 'refs/heads/main': is at 2adbd8597f3d32d1698dc02da3d23ffea946462d but expected c982bafafbecac66efe82f2eb070f0b1321851d2        \n",
      "To https://huggingface.co/subhasisj/en-kd-XLM-minilmv2-4\n",
      " ! [remote rejected] main -> main (failed to update ref)\n",
      "error: failed to push some refs to 'https://huggingface.co/subhasisj/en-kd-XLM-minilmv2-4'\n",
      "\n"
     ]
    },
    {
     "ename": "OSError",
     "evalue": "remote: Enforcing permissions...        \nremote: Allowed refs: all        \nremote: error: cannot lock ref 'refs/heads/main': is at 2adbd8597f3d32d1698dc02da3d23ffea946462d but expected c982bafafbecac66efe82f2eb070f0b1321851d2        \nTo https://huggingface.co/subhasisj/en-kd-XLM-minilmv2-4\n ! [remote rejected] main -> main (failed to update ref)\nerror: failed to push some refs to 'https://huggingface.co/subhasisj/en-kd-XLM-minilmv2-4'\n",
     "output_type": "error",
     "traceback": [
      "\u001b[1;31m---------------------------------------------------------------------------\u001b[0m",
      "\u001b[1;31mCalledProcessError\u001b[0m                        Traceback (most recent call last)",
      "File \u001b[1;32md:\\Anaconda\\envs\\all-purpose-gpu\\lib\\site-packages\\huggingface_hub\\repository.py:1020\u001b[0m, in \u001b[0;36mRepository.git_push\u001b[1;34m(self, upstream, blocking, auto_lfs_prune)\u001b[0m\n\u001b[0;32m   <a href='file:///d%3A/Anaconda/envs/all-purpose-gpu/lib/site-packages/huggingface_hub/repository.py?line=1018'>1019</a>\u001b[0m             \u001b[39mif\u001b[39;00m return_code:\n\u001b[1;32m-> <a href='file:///d%3A/Anaconda/envs/all-purpose-gpu/lib/site-packages/huggingface_hub/repository.py?line=1019'>1020</a>\u001b[0m                 \u001b[39mraise\u001b[39;00m subprocess\u001b[39m.\u001b[39mCalledProcessError(\n\u001b[0;32m   <a href='file:///d%3A/Anaconda/envs/all-purpose-gpu/lib/site-packages/huggingface_hub/repository.py?line=1020'>1021</a>\u001b[0m                     return_code, process\u001b[39m.\u001b[39margs, output\u001b[39m=\u001b[39mstdout, stderr\u001b[39m=\u001b[39mstderr\n\u001b[0;32m   <a href='file:///d%3A/Anaconda/envs/all-purpose-gpu/lib/site-packages/huggingface_hub/repository.py?line=1021'>1022</a>\u001b[0m                 )\n\u001b[0;32m   <a href='file:///d%3A/Anaconda/envs/all-purpose-gpu/lib/site-packages/huggingface_hub/repository.py?line=1023'>1024</a>\u001b[0m \u001b[39mexcept\u001b[39;00m subprocess\u001b[39m.\u001b[39mCalledProcessError \u001b[39mas\u001b[39;00m exc:\n",
      "\u001b[1;31mCalledProcessError\u001b[0m: Command '['git', 'push', '--set-upstream', 'origin', 'main']' returned non-zero exit status 1.",
      "\nDuring handling of the above exception, another exception occurred:\n",
      "\u001b[1;31mOSError\u001b[0m                                   Traceback (most recent call last)",
      "\u001b[1;32md:\\Repositories\\masters-research-qa\\knowledge-distillation\\qa-knowledge-distillation-en.ipynb Cell 25'\u001b[0m in \u001b[0;36m<module>\u001b[1;34m\u001b[0m\n\u001b[1;32m----> <a href='vscode-notebook-cell:/d%3A/Repositories/masters-research-qa/knowledge-distillation/qa-knowledge-distillation-en.ipynb#ch0000023?line=0'>1</a>\u001b[0m distil_trainer\u001b[39m.\u001b[39;49mpush_to_hub(\u001b[39m\"\u001b[39;49m\u001b[39mTraining Completed\u001b[39;49m\u001b[39m\"\u001b[39;49m)\n",
      "File \u001b[1;32md:\\Anaconda\\envs\\all-purpose-gpu\\lib\\site-packages\\transformers\\trainer.py:2875\u001b[0m, in \u001b[0;36mTrainer.push_to_hub\u001b[1;34m(self, commit_message, blocking, **kwargs)\u001b[0m\n\u001b[0;32m   <a href='file:///d%3A/Anaconda/envs/all-purpose-gpu/lib/site-packages/transformers/trainer.py?line=2871'>2872</a>\u001b[0m \u001b[39mif\u001b[39;00m \u001b[39mnot\u001b[39;00m \u001b[39mself\u001b[39m\u001b[39m.\u001b[39mis_world_process_zero():\n\u001b[0;32m   <a href='file:///d%3A/Anaconda/envs/all-purpose-gpu/lib/site-packages/transformers/trainer.py?line=2872'>2873</a>\u001b[0m     \u001b[39mreturn\u001b[39;00m\n\u001b[1;32m-> <a href='file:///d%3A/Anaconda/envs/all-purpose-gpu/lib/site-packages/transformers/trainer.py?line=2874'>2875</a>\u001b[0m git_head_commit_url \u001b[39m=\u001b[39m \u001b[39mself\u001b[39;49m\u001b[39m.\u001b[39;49mrepo\u001b[39m.\u001b[39;49mpush_to_hub(\n\u001b[0;32m   <a href='file:///d%3A/Anaconda/envs/all-purpose-gpu/lib/site-packages/transformers/trainer.py?line=2875'>2876</a>\u001b[0m     commit_message\u001b[39m=\u001b[39;49mcommit_message, blocking\u001b[39m=\u001b[39;49mblocking, auto_lfs_prune\u001b[39m=\u001b[39;49m\u001b[39mTrue\u001b[39;49;00m\n\u001b[0;32m   <a href='file:///d%3A/Anaconda/envs/all-purpose-gpu/lib/site-packages/transformers/trainer.py?line=2876'>2877</a>\u001b[0m )\n\u001b[0;32m   <a href='file:///d%3A/Anaconda/envs/all-purpose-gpu/lib/site-packages/transformers/trainer.py?line=2877'>2878</a>\u001b[0m \u001b[39m# push separately the model card to be independant from the rest of the model\u001b[39;00m\n\u001b[0;32m   <a href='file:///d%3A/Anaconda/envs/all-purpose-gpu/lib/site-packages/transformers/trainer.py?line=2878'>2879</a>\u001b[0m \u001b[39mif\u001b[39;00m \u001b[39mself\u001b[39m\u001b[39m.\u001b[39margs\u001b[39m.\u001b[39mshould_save:\n",
      "File \u001b[1;32md:\\Anaconda\\envs\\all-purpose-gpu\\lib\\site-packages\\huggingface_hub\\repository.py:1253\u001b[0m, in \u001b[0;36mRepository.push_to_hub\u001b[1;34m(self, commit_message, blocking, clean_ok, auto_lfs_prune)\u001b[0m\n\u001b[0;32m   <a href='file:///d%3A/Anaconda/envs/all-purpose-gpu/lib/site-packages/huggingface_hub/repository.py?line=1250'>1251</a>\u001b[0m \u001b[39mself\u001b[39m\u001b[39m.\u001b[39mgit_add(auto_lfs_track\u001b[39m=\u001b[39m\u001b[39mTrue\u001b[39;00m)\n\u001b[0;32m   <a href='file:///d%3A/Anaconda/envs/all-purpose-gpu/lib/site-packages/huggingface_hub/repository.py?line=1251'>1252</a>\u001b[0m \u001b[39mself\u001b[39m\u001b[39m.\u001b[39mgit_commit(commit_message)\n\u001b[1;32m-> <a href='file:///d%3A/Anaconda/envs/all-purpose-gpu/lib/site-packages/huggingface_hub/repository.py?line=1252'>1253</a>\u001b[0m \u001b[39mreturn\u001b[39;00m \u001b[39mself\u001b[39;49m\u001b[39m.\u001b[39;49mgit_push(\n\u001b[0;32m   <a href='file:///d%3A/Anaconda/envs/all-purpose-gpu/lib/site-packages/huggingface_hub/repository.py?line=1253'>1254</a>\u001b[0m     upstream\u001b[39m=\u001b[39;49m\u001b[39mf\u001b[39;49m\u001b[39m\"\u001b[39;49m\u001b[39morigin \u001b[39;49m\u001b[39m{\u001b[39;49;00m\u001b[39mself\u001b[39;49m\u001b[39m.\u001b[39;49mcurrent_branch\u001b[39m}\u001b[39;49;00m\u001b[39m\"\u001b[39;49m,\n\u001b[0;32m   <a href='file:///d%3A/Anaconda/envs/all-purpose-gpu/lib/site-packages/huggingface_hub/repository.py?line=1254'>1255</a>\u001b[0m     blocking\u001b[39m=\u001b[39;49mblocking,\n\u001b[0;32m   <a href='file:///d%3A/Anaconda/envs/all-purpose-gpu/lib/site-packages/huggingface_hub/repository.py?line=1255'>1256</a>\u001b[0m     auto_lfs_prune\u001b[39m=\u001b[39;49mauto_lfs_prune,\n\u001b[0;32m   <a href='file:///d%3A/Anaconda/envs/all-purpose-gpu/lib/site-packages/huggingface_hub/repository.py?line=1256'>1257</a>\u001b[0m )\n",
      "File \u001b[1;32md:\\Anaconda\\envs\\all-purpose-gpu\\lib\\site-packages\\huggingface_hub\\repository.py:1025\u001b[0m, in \u001b[0;36mRepository.git_push\u001b[1;34m(self, upstream, blocking, auto_lfs_prune)\u001b[0m\n\u001b[0;32m   <a href='file:///d%3A/Anaconda/envs/all-purpose-gpu/lib/site-packages/huggingface_hub/repository.py?line=1019'>1020</a>\u001b[0m                 \u001b[39mraise\u001b[39;00m subprocess\u001b[39m.\u001b[39mCalledProcessError(\n\u001b[0;32m   <a href='file:///d%3A/Anaconda/envs/all-purpose-gpu/lib/site-packages/huggingface_hub/repository.py?line=1020'>1021</a>\u001b[0m                     return_code, process\u001b[39m.\u001b[39margs, output\u001b[39m=\u001b[39mstdout, stderr\u001b[39m=\u001b[39mstderr\n\u001b[0;32m   <a href='file:///d%3A/Anaconda/envs/all-purpose-gpu/lib/site-packages/huggingface_hub/repository.py?line=1021'>1022</a>\u001b[0m                 )\n\u001b[0;32m   <a href='file:///d%3A/Anaconda/envs/all-purpose-gpu/lib/site-packages/huggingface_hub/repository.py?line=1023'>1024</a>\u001b[0m \u001b[39mexcept\u001b[39;00m subprocess\u001b[39m.\u001b[39mCalledProcessError \u001b[39mas\u001b[39;00m exc:\n\u001b[1;32m-> <a href='file:///d%3A/Anaconda/envs/all-purpose-gpu/lib/site-packages/huggingface_hub/repository.py?line=1024'>1025</a>\u001b[0m     \u001b[39mraise\u001b[39;00m \u001b[39mEnvironmentError\u001b[39;00m(exc\u001b[39m.\u001b[39mstderr)\n\u001b[0;32m   <a href='file:///d%3A/Anaconda/envs/all-purpose-gpu/lib/site-packages/huggingface_hub/repository.py?line=1026'>1027</a>\u001b[0m \u001b[39mif\u001b[39;00m \u001b[39mnot\u001b[39;00m blocking:\n\u001b[0;32m   <a href='file:///d%3A/Anaconda/envs/all-purpose-gpu/lib/site-packages/huggingface_hub/repository.py?line=1028'>1029</a>\u001b[0m     \u001b[39mdef\u001b[39;00m \u001b[39mstatus_method\u001b[39m():\n",
      "\u001b[1;31mOSError\u001b[0m: remote: Enforcing permissions...        \nremote: Allowed refs: all        \nremote: error: cannot lock ref 'refs/heads/main': is at 2adbd8597f3d32d1698dc02da3d23ffea946462d but expected c982bafafbecac66efe82f2eb070f0b1321851d2        \nTo https://huggingface.co/subhasisj/en-kd-XLM-minilmv2-4\n ! [remote rejected] main -> main (failed to update ref)\nerror: failed to push some refs to 'https://huggingface.co/subhasisj/en-kd-XLM-minilmv2-4'\n"
     ]
    }
   ],
   "source": [
    "distil_trainer.push_to_hub(\"Training Completed\")"
   ]
  },
  {
   "cell_type": "code",
   "execution_count": 16,
   "metadata": {},
   "outputs": [
    {
     "data": {
      "text/plain": [
       "<__main__.DistillationTrainer at 0x16c46f43d90>"
      ]
     },
     "execution_count": 16,
     "metadata": {},
     "output_type": "execute_result"
    }
   ],
   "source": []
  },
  {
   "cell_type": "code",
   "execution_count": null,
   "metadata": {},
   "outputs": [],
   "source": []
  }
 ],
 "metadata": {
  "interpreter": {
   "hash": "988aea983bc49b4de6555a9151e99301026502c3eb4adf0dc68b340a087613cc"
  },
  "kernelspec": {
   "display_name": "Python 3.8.12 ('all-purpose-gpu')",
   "language": "python",
   "name": "python3"
  },
  "language_info": {
   "codemirror_mode": {
    "name": "ipython",
    "version": 3
   },
   "file_extension": ".py",
   "mimetype": "text/x-python",
   "name": "python",
   "nbconvert_exporter": "python",
   "pygments_lexer": "ipython3",
   "version": "3.8.12"
  },
  "orig_nbformat": 4
 },
 "nbformat": 4,
 "nbformat_minor": 2
}
