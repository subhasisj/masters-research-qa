{
 "cells": [
  {
   "cell_type": "markdown",
   "metadata": {},
   "source": [
    "## Large Language Model Finetuning\n",
    "\n",
    "Model: `XLM-Roberta-Large`"
   ]
  },
  {
   "cell_type": "code",
   "execution_count": 1,
   "metadata": {},
   "outputs": [],
   "source": [
    "from transformers import (AutoModelForQuestionAnswering, AutoTokenizer,\n",
    "                          Trainer, TrainingArguments)"
   ]
  },
  {
   "cell_type": "code",
   "execution_count": 3,
   "metadata": {},
   "outputs": [
    {
     "name": "stderr",
     "output_type": "stream",
     "text": [
      "Downloading: 100%|██████████| 756/756 [00:00<00:00, 252kB/s]\n",
      "Downloading: 100%|██████████| 1.03G/1.03G [01:15<00:00, 14.7MB/s]   \n",
      "Downloading: 100%|██████████| 612/612 [00:00<00:00, 304kB/s]\n",
      "Downloading: 100%|██████████| 756/756 [00:00<00:00, 377kB/s]\n",
      "Downloading: 100%|██████████| 4.83M/4.83M [00:01<00:00, 3.27MB/s]\n",
      "Downloading: 100%|██████████| 8.68M/8.68M [00:13<00:00, 670kB/s] \n",
      "Downloading: 100%|██████████| 150/150 [00:00<00:00, 151kB/s]\n"
     ]
    }
   ],
   "source": [
    "model = AutoModelForQuestionAnswering.from_pretrained(\"bhavikardeshna/xlm-roberta-base-chinese\")\n",
    "tokenizer = AutoTokenizer.from_pretrained(\"bhavikardeshna/xlm-roberta-base-chinese\")"
   ]
  },
  {
   "cell_type": "code",
   "execution_count": null,
   "metadata": {},
   "outputs": [],
   "source": []
  }
 ],
 "metadata": {
  "interpreter": {
   "hash": "988aea983bc49b4de6555a9151e99301026502c3eb4adf0dc68b340a087613cc"
  },
  "kernelspec": {
   "display_name": "Python 3.8.12 ('all-purpose-gpu')",
   "language": "python",
   "name": "python3"
  },
  "language_info": {
   "codemirror_mode": {
    "name": "ipython",
    "version": 3
   },
   "file_extension": ".py",
   "mimetype": "text/x-python",
   "name": "python",
   "nbconvert_exporter": "python",
   "pygments_lexer": "ipython3",
   "version": "3.8.12"
  },
  "orig_nbformat": 4
 },
 "nbformat": 4,
 "nbformat_minor": 2
}
